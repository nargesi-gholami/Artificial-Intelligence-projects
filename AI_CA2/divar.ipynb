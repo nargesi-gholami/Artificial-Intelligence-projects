{
 "cells": [
  {
   "cell_type": "code",
   "execution_count": 154,
   "metadata": {},
   "outputs": [],
   "source": [
    "import hazm\n",
    "import pandas as pd\n",
    "from parsivar import Normalizer\n",
    "from parsivar import Tokenizer\n",
    "from __future__ import unicode_literals\n",
    "from hazm import *\n",
    "import matplotlib.pyplot as plt\n",
    "from copy import deepcopy"
   ]
  },
  {
   "cell_type": "code",
   "execution_count": 155,
   "metadata": {},
   "outputs": [],
   "source": [
    "VEHICLES = \"vehicles\"\n",
    "DE = \"electronic-devices\"\n",
    "BUISINESSES = \"businesses\"\n",
    "HOME = \"for-the-home\"\n",
    "PERSONAL = \"personal\"\n",
    "HOBBIES = \"leisure-hobbies\""
   ]
  },
  {
   "cell_type": "code",
   "execution_count": 156,
   "metadata": {},
   "outputs": [
    {
     "name": "stdout",
     "output_type": "stream",
     "text": [
      "                                title  \\\n",
      "0                        کیف مجلسی نو   \n",
      "1               دیوار کوب نمدی تزیینی   \n",
      "2     دو تیکه بسیار بسیار تمیز و سالم   \n",
      "3                                مودم   \n",
      "4      تعداد18عددبوقلمون به قیمت عمده   \n",
      "...                               ...   \n",
      "1795                 باسکول 300کیلویی   \n",
      "1796           میز مدیریتی با کنفرانس   \n",
      "1797                        باند aiwa   \n",
      "1798                  عروس هلندی مولد   \n",
      "1799      ست دستباف دخترانه یکساله نو   \n",
      "\n",
      "                                            description          categories  \n",
      "0                                      کیف مجلسی نوی نو            personal  \n",
      "1                                  مناسب برای جهاز عروس        for-the-home  \n",
      "2                                    با کشوی مخفی و شیک        for-the-home  \n",
      "3     سلام مودم سالم با وسایلش،دیگه ب کارم نمیاد \\nم...  electronic-devices  \n",
      "4     سلام تعدای بوقلمون دارم به علت جابه جایی به فر...     leisure-hobbies  \n",
      "...                                                 ...                 ...  \n",
      "1795      سالمه سالمه بشرط\\nقیمت نوش داخل بازار600تومنه          businesses  \n",
      "1796    میز مدیریتی با کنفرانس \\nتمیز سالم بدون خط و خش          businesses  \n",
      "1797                                     سالم،با اسپیکر  electronic-devices  \n",
      "1798  پنج تا عروس هلندی،  دو جفت ویک تک،یه جفتش دم ت...     leisure-hobbies  \n",
      "1799  ست دخترانه تا یکسال و نیم هم میشه ،کاردست و نو...            personal  \n",
      "\n",
      "[1800 rows x 3 columns]\n"
     ]
    }
   ],
   "source": [
    "dataTest = pd.read_csv(\"divar_data\\Data\\divar_test.csv\") # ,quoting= csv.QUOTE_NONE, error_bad_lines=False \n",
    "print(dataTest)\n",
    "\n",
    "dataTrain = pd.read_csv(\"divar_data\\Data\\divar_train.csv\") \n",
    "#print(dataTrain)"
   ]
  },
  {
   "cell_type": "code",
   "execution_count": 157,
   "metadata": {},
   "outputs": [],
   "source": [
    "def deleteStopWords(words, stopWords):\n",
    "    removeIndex = []\n",
    "    for i in range(len(words)):\n",
    "        if words[i] in stopWords:\n",
    "            removeIndex.append(i)\n",
    "    count = 0\n",
    "    for i in range(len(removeIndex)):\n",
    "        words.remove(words[removeIndex[i] - count])\n",
    "        count += 1\n",
    "        \n",
    "    return words\n",
    "\n",
    "def stem(words):\n",
    "    stemmer = Stemmer()\n",
    "    words = [stemmer.stem(word) for word in words]\n",
    "    return words\n",
    "\n",
    "def lemmatize(words):\n",
    "    lemmatizer = Lemmatizer()\n",
    "    words = [lemmatizer.lemmatize(word) for word in words]\n",
    "\n",
    "def placement(words):\n",
    "    for i in range(len(words)):\n",
    "        words[i] = words[i].replace( \"\\n\",\"\")\n",
    "        words[i] = words[i].replace( \"\\t\",\"\")\n",
    "        words[i] = words[i].replace( \"...\",\"\")\n",
    "    return words"
   ]
  },
  {
   "cell_type": "code",
   "execution_count": 158,
   "metadata": {},
   "outputs": [],
   "source": [
    "def normilize(dataTrain):\n",
    "    stopWords = set(hazm.stopwords_list(\"stopword2.txt\"))\n",
    "    descriptionData = dataTrain['description']\n",
    "    descriptionWords = []\n",
    "    titleData = dataTrain['title']     \n",
    "    titleWords = []    \n",
    "    \n",
    "    my_normalizer = Normalizer()\n",
    "    my_tokenizer = Tokenizer()\n",
    "\n",
    "    words = []\n",
    "    for i in range(len(descriptionData)):\n",
    "        if(descriptionData[i]):\n",
    "            descriptionData[i] = my_normalizer.normalize(descriptionData[i])\n",
    "            words = my_tokenizer.tokenize_words(my_normalizer.normalize(descriptionData[i]))\n",
    "            words = deleteStopWords(words, stopWords)\n",
    "            words = placement(words)\n",
    "            descriptionWords.append(words)\n",
    "            \n",
    "\n",
    "    for i in range(len(titleData)):\n",
    "        if(titleData[i]):\n",
    "            titleData[i] = my_normalizer.normalize(titleData[i])\n",
    "            words = my_tokenizer.tokenize_words(my_normalizer.normalize(titleData[i]))\n",
    "            words = deleteStopWords(words, stopWords)\n",
    "            words = placement(words)\n",
    "            titleWords.append(words)\n",
    "\n",
    "    return descriptionWords, titleWords"
   ]
  },
  {
   "cell_type": "code",
   "execution_count": 159,
   "metadata": {},
   "outputs": [],
   "source": [
    "descriptionWords, titleWords = normilize(dataTrain)\n",
    "descriptionWordsTest, titleWordsTest = normilize(dataTest)"
   ]
  },
  {
   "cell_type": "markdown",
   "metadata": {},
   "source": [
    "part 2"
   ]
  },
  {
   "cell_type": "code",
   "execution_count": 160,
   "metadata": {},
   "outputs": [],
   "source": [
    "def preProcess(category, descriptionWords, titleWords, categories):\n",
    "    countData = {}\n",
    "    countUnique = 0\n",
    "    countAll = 0\n",
    "    \n",
    "    for i in range(len(descriptionWords)):\n",
    "        if categories[i] == category:\n",
    "            for word in descriptionWords[i]:\n",
    "                if word in countData:\n",
    "                    countData[word] += 1\n",
    "                    countAll += 1\n",
    "                else:\n",
    "                    countData[word] = 1\n",
    "                    countAll += 1\n",
    "                    countUnique += 1\n",
    "    for i in range(len(titleWords)):\n",
    "        if categories[i] == category:\n",
    "            for word in titleWords[i]:\n",
    "                if word in countData:\n",
    "                    countData[word] += 1\n",
    "                    countAll += 1\n",
    "                else:\n",
    "                    countData[word] = 1\n",
    "                    countAll += 1\n",
    "                    countUnique += 1\n",
    "    return countData, countUnique, countAll\n",
    "\n",
    "def findSmoothProb(words, data, countCat, countAll, countUnique):\n",
    "    prob = countCat/countAll\n",
    "    for word in words:\n",
    "        if word in data:\n",
    "            prob *= (data[word]+1)/(countCat + countUnique + 1)\n",
    "        else:\n",
    "            prob *= 1/(countCat + countUnique + 1)\n",
    "            \n",
    "    return prob\n",
    "\n",
    "def findProb(words, data, countCat, countAll):\n",
    "    prob = countCat/countAll\n",
    "    for word in words:\n",
    "        if word in data:\n",
    "            prob *= data[word]/countCat\n",
    "        else:\n",
    "            return 0\n",
    "    return prob\n"
   ]
  },
  {
   "cell_type": "code",
   "execution_count": 161,
   "metadata": {},
   "outputs": [],
   "source": [
    "categories = dataTrain['categories']\n",
    "\n",
    "vehicle, countUnique_v, countAll_v = preProcess(VEHICLES, descriptionWords,titleWords, categories)\n",
    "devices, countUnique_d, countAll_d = preProcess(DE, descriptionWords,titleWords, categories)\n",
    "Businesses, countUnique_b, countAll_b = preProcess(BUISINESSES, descriptionWords,titleWords, categories)\n",
    "home, countUnique_h, countAll_h = preProcess(HOME, descriptionWords,titleWords, categories)\n",
    "personal, countUnique_p, countAll_p = preProcess(PERSONAL, descriptionWords,titleWords, categories)\n",
    "hobby, countUnique_l, countAll_l = preProcess(HOBBIES, descriptionWords,titleWords, categories)\n",
    "\n",
    "count = countAll_v + countAll_d+ countAll_b+ countAll_h+ countAll_p+ countAll_l"
   ]
  },
  {
   "cell_type": "code",
   "execution_count": 162,
   "metadata": {},
   "outputs": [
    {
     "name": "stdout",
     "output_type": "stream",
     "text": [
      "['عروس', 'هلندی', '۲۵روزه', 'والدینش', 'تغذیه', 'لطفا', 'تماس', 'بگیرید']\n",
      "probability vehicle 0\n",
      "probability devices 0\n",
      "probability Businesses 0\n",
      "probability home 0\n",
      "probability personal 0\n",
      "probability hobby 0\n",
      "Smoth probability vehicle 3.162418895127979e-32\n",
      "Smoth probability devices 7.087732456069737e-32\n",
      "Smoth probability Businesses 1.5870570536364179e-31\n",
      "Smoth probability home 2.3890308726880282e-30\n",
      "Smoth probability personal 8.487377203027935e-30\n",
      "Smoth probability hobby 3.705196604475744e-27\n"
     ]
    }
   ],
   "source": [
    "#import arabic_reshaper \n",
    "text = \"عروس هلندی ۲۵روزه که توسط والدینش تغذیه شده لطفا فقط تماس بگیرید\"\n",
    "#text = \"تعداد سه عدد قفسه میوه فلزی کاملا سالم به فروش میرسد . فروش فوری زیر قیمت\"\n",
    "#text = \"فروش سیمان تیپ 2 تهران مستقیم از کارخانه\"\n",
    "\n",
    "my_normalizer = Normalizer()\n",
    "my_tokenizer = Tokenizer()\n",
    "\n",
    "words = my_tokenizer.tokenize_words(my_normalizer.normalize(text))\n",
    "text = deleteStopWords(words, set(hazm.stopwords_list(\"stopword2.txt\")))\n",
    "\n",
    "print(text)\n",
    "print(\"probability vehicle\", findProb(words, vehicle, countAll_v, count))\n",
    "print(\"probability devices\", findProb(words, devices, countAll_d, count))\n",
    "print(\"probability Businesses\", findProb(words, Businesses, countAll_b, count))\n",
    "print(\"probability home\", findProb(words, home, countAll_h, count))\n",
    "print(\"probability personal\", findProb(words, personal, countAll_p, count))\n",
    "print(\"probability hobby\", findProb(words, hobby, countAll_l, count))\n",
    "\n",
    "print(\"Smoth probability vehicle\", findSmoothProb(words, vehicle, countAll_v, count, countUnique_v))\n",
    "print(\"Smoth probability devices\", findSmoothProb(words, devices, countAll_d, count, countUnique_d))\n",
    "print(\"Smoth probability Businesses\", findSmoothProb(words, Businesses, countAll_b, count, countUnique_b))\n",
    "print(\"Smoth probability home\", findSmoothProb(words, home, countAll_h, count, countUnique_h))\n",
    "print(\"Smoth probability personal\", findSmoothProb(words, personal, countAll_p, count, countUnique_p))\n",
    "print(\"Smoth probability hobby\", findSmoothProb(words, hobby, countAll_l, count, countUnique_l))\n",
    "\n"
   ]
  },
  {
   "cell_type": "code",
   "execution_count": 163,
   "metadata": {},
   "outputs": [],
   "source": [
    "def plotCatgory(category):\n",
    "    cat = deepcopy(category)\n",
    "    categorySort = sorted(cat.items(), key=lambda x: x[1], reverse=True)\n",
    "    c1 = [i[0] for i in categorySort]\n",
    "    c2 = [i[1] for i in categorySort]\n",
    "    \n",
    "    DuplicateWords = set(hazm.stopwords_list(\"Duplicate_words.txt\"))\n",
    "    count = 0\n",
    "    while(count < 5):\n",
    "        if c1[count] in DuplicateWords:\n",
    "            c1.remove(c1[count])\n",
    "            c2.remove(c2[count])\n",
    "        else:\n",
    "            count += 1\n",
    "    \n",
    "    plt.xlabel(\"words\")\n",
    "    plt.ylabel(\"The number of repetitions\")\n",
    "    plt.bar(c1[:5], c2[:5])\n",
    "    plt.show()"
   ]
  },
  {
   "cell_type": "code",
   "execution_count": 164,
   "metadata": {},
   "outputs": [
    {
     "data": {
      "image/png": "[encoded data removed]",
      "text/plain": [
       "<Figure size 432x288 with 1 Axes>"
      ]
     },
     "metadata": {
      "needs_background": "light"
     },
     "output_type": "display_data"
    },
    {
     "data": {
      "image/png": "[encoded data removed]",
      "text/plain": [
       "<Figure size 432x288 with 1 Axes>"
      ]
     },
     "metadata": {
      "needs_background": "light"
     },
     "output_type": "display_data"
    },
    {
     "data": {
      "image/png": "[encoded data removed]",
      "text/plain": [
       "<Figure size 432x288 with 1 Axes>"
      ]
     },
     "metadata": {
      "needs_background": "light"
     },
     "output_type": "display_data"
    },
    {
     "data": {
      "image/png": "[encoded data removed]",
      "text/plain": [
       "<Figure size 432x288 with 1 Axes>"
      ]
     },
     "metadata": {
      "needs_background": "light"
     },
     "output_type": "display_data"
    },
    {
     "data": {
      "image/png": "[encoded data removed]",
      "text/plain": [
       "<Figure size 432x288 with 1 Axes>"
      ]
     },
     "metadata": {
      "needs_background": "light"
     },
     "output_type": "display_data"
    },
    {
     "data": {
      "image/png": "[encoded data removed]",
      "text/plain": [
       "<Figure size 432x288 with 1 Axes>"
      ]
     },
     "metadata": {
      "needs_background": "light"
     },
     "output_type": "display_data"
    }
   ],
   "source": [
    "plt.title(\"vehicle\")\n",
    "plotCatgory(vehicle)\n",
    "\n",
    "plt.title(\"devices\")\n",
    "plotCatgory(devices)\n",
    "\n",
    "plt.title(\"Businesses\")\n",
    "plotCatgory(Businesses)\n",
    "\n",
    "plt.title(\"for the home\")\n",
    "plotCatgory(home)\n",
    "\n",
    "plt.title(\"personal\")\n",
    "plotCatgory(personal)\n",
    "\n",
    "plt.title(\"hobby\")\n",
    "plotCatgory(hobby)\n"
   ]
  },
  {
   "cell_type": "code",
   "execution_count": 167,
   "metadata": {},
   "outputs": [],
   "source": [
    "correctDetected = {\n",
    "    VEHICLES : 0,\n",
    "    DE : 0,\n",
    "    BUISINESSES : 0,\n",
    "    HOME : 0,\n",
    "    PERSONAL : 0,\n",
    "    HOBBIES : 0,    \n",
    "}\n",
    "\n",
    "allDetected = {\n",
    "    VEHICLES : 0,\n",
    "    DE : 0,\n",
    "    BUISINESSES : 0,\n",
    "    HOME : 0,\n",
    "    PERSONAL : 0,\n",
    "    HOBBIES : 0,    \n",
    "}\n",
    "\n",
    "precision = {\n",
    "    VEHICLES : 0,\n",
    "    DE : 0,\n",
    "    BUISINESSES : 0,\n",
    "    HOME : 0,\n",
    "    PERSONAL : 0,\n",
    "    HOBBIES : 0,  \n",
    "}\n",
    "\n",
    "recall = {\n",
    "    VEHICLES : 0,\n",
    "    DE : 0,\n",
    "    BUISINESSES : 0,\n",
    "    HOME : 0,\n",
    "    PERSONAL : 0,\n",
    "    HOBBIES : 0,  \n",
    "}\n",
    "\n",
    "F1 = {\n",
    "    VEHICLES : 0,\n",
    "    DE : 0,\n",
    "    BUISINESSES : 0,\n",
    "    HOME : 0,\n",
    "    PERSONAL : 0,\n",
    "    HOBBIES : 0,  \n",
    "}\n",
    "\n",
    "classTotal = {\n",
    "    VEHICLES : 0,\n",
    "    DE : 0,\n",
    "    BUISINESSES : 0,\n",
    "    HOME : 0,\n",
    "    PERSONAL : 0,\n",
    "    HOBBIES : 0,  \n",
    "}\n"
   ]
  },
  {
   "cell_type": "markdown",
   "metadata": {},
   "source": [
    "part 3"
   ]
  },
  {
   "cell_type": "code",
   "execution_count": 166,
   "metadata": {},
   "outputs": [
    {
     "name": "stdout",
     "output_type": "stream",
     "text": [
      "Accuracy is  0.35833333333333334\n",
      "{'vehicles': 0.7835051546391752, 'electronic-devices': 0.6746987951807228, 'businesses': 0.7291666666666666, 'for-the-home': 0.7522935779816514, 'personal': 0.76, 'leisure-hobbies': 0.21673003802281368}\n",
      "{'vehicles': 0.25333333333333335, 'electronic-devices': 0.18666666666666668, 'businesses': 0.23333333333333334, 'for-the-home': 0.2733333333333333, 'personal': 0.25333333333333335, 'leisure-hobbies': 0.95}\n",
      "{'vehicles': 0.3828715365239295, 'electronic-devices': 0.2924281984334204, 'businesses': 0.3535353535353536, 'for-the-home': 0.4009779951100244, 'personal': 0.38, 'leisure-hobbies': 0.35294117647058826}\n",
      "Macro F1:  0.36045904334555273\n",
      "Weighted F1:  0.36166057349003783\n",
      "Micro F1 0.35833333333333334\n"
     ]
    }
   ],
   "source": [
    "categoryTest = dataTest['categories']\n",
    "for i in range(len(descriptionWordsTest)):\n",
    "    vP = findProb(descriptionWordsTest[i], vehicle, countAll_v, count)\n",
    "    dP = findProb(descriptionWordsTest[i], devices, countAll_d, count)\n",
    "    bP = findProb(descriptionWordsTest[i], Businesses, countAll_b, count)\n",
    "    hP = findProb(descriptionWordsTest[i], home, countAll_h, count)\n",
    "    pP = findProb(descriptionWordsTest[i], personal, countAll_p, count)\n",
    "    lP = findProb(descriptionWordsTest[i], hobby, countAll_l, count)\n",
    "\n",
    "    maxP = max(vP, dP, bP, hP, pP, lP)\n",
    "    options = { \n",
    "        vP : VEHICLES,\n",
    "        dP : DE,\n",
    "        bP : BUISINESSES,\n",
    "        hP : HOME,\n",
    "        pP : PERSONAL,\n",
    "        lP : HOBBIES,\n",
    "    }\n",
    "    \n",
    "    category = options[maxP]\n",
    "    allDetected[category] += 1\n",
    "    classTotal[categoryTest[i]] += 1\n",
    "    if category == categoryTest[i]:\n",
    "        correctDetected[category] += 1\n",
    "\n",
    "totalClass = len(descriptionWordsTest)\n",
    "Accuracy = correctDetected[VEHICLES] + correctDetected[DE] + correctDetected[BUISINESSES]\n",
    "Accuracy += correctDetected[HOME] + correctDetected[PERSONAL] + correctDetected[HOBBIES]\n",
    "Accuracy /= totalClass\n",
    "print(\"Accuracy is \", Accuracy)\n",
    "\n",
    "for word in precision.keys():\n",
    "    precision[word] = correctDetected[word]/allDetected[word]\n",
    "\n",
    "print(precision)\n",
    "\n",
    "for word in recall.keys():\n",
    "    recall[word] = correctDetected[word]/classTotal[word]\n",
    "\n",
    "print(recall)\n",
    "\n",
    "for word in F1.keys():\n",
    "    F1[word] = 2* (precision[word]*recall[word])/ (precision[word] + recall[word])\n",
    "\n",
    "print(F1)\n",
    "#################################\n",
    "Macro_F1 = 0\n",
    "for word in F1.keys():\n",
    "    Macro_F1 += F1[word]\n",
    "print(\"Macro F1: \", Macro_F1 / 6)\n",
    "\n",
    "weighted_F1 = 0\n",
    "total = 0\n",
    "for word in F1.keys():\n",
    "    Macro_F1 += F1[word]*classTotal[word]\n",
    "    total += classTotal[word]\n",
    "\n",
    "print(\"Weighted F1: \" , Macro_F1/total)\n",
    "\n",
    "f1 = 0\n",
    "f2 = 0\n",
    "for word in precision.keys():\n",
    "    f1 += correctDetected[word]\n",
    "    f2 += allDetected[word]\n",
    "pre = f1/f2\n",
    "\n",
    "g1 = 0\n",
    "g2 = 0\n",
    "for word in recall.keys():\n",
    "    f1 += correctDetected[word]\n",
    "    f2 += classTotal[word]\n",
    "rec = f1 / f2\n",
    "\n",
    "if rec == pre:\n",
    "    print(\"Micro F1\", rec)"
   ]
  },
  {
   "cell_type": "code",
   "execution_count": 168,
   "metadata": {},
   "outputs": [
    {
     "name": "stdout",
     "output_type": "stream",
     "text": [
      "Accuracy is  0.8544444444444445\n",
      "precision:  {'vehicles': 0.9347079037800687, 'electronic-devices': 0.9238754325259516, 'businesses': 0.775438596491228, 'for-the-home': 0.7307692307692307, 'personal': 0.8721311475409836, 'leisure-hobbies': 0.924812030075188}\n",
      "recall:  {'vehicles': 0.9066666666666666, 'electronic-devices': 0.89, 'businesses': 0.7366666666666667, 'for-the-home': 0.8866666666666667, 'personal': 0.8866666666666667, 'leisure-hobbies': 0.82}\n",
      "F1:  {'vehicles': 0.9204737732656515, 'electronic-devices': 0.9066213921901528, 'businesses': 0.7555555555555555, 'for-the-home': 0.8012048192771084, 'personal': 0.8793388429752066, 'leisure-hobbies': 0.8692579505300353}\n"
     ]
    }
   ],
   "source": [
    "\n",
    "categoryTest = dataTest['categories']\n",
    "for i in range(len(descriptionWordsTest)):\n",
    "    vP = findSmoothProb(descriptionWordsTest[i]+titleWordsTest[i], vehicle, countAll_v, count, countUnique_v)\n",
    "    dP = findSmoothProb(descriptionWordsTest[i]+titleWordsTest[i], devices, countAll_d, count, countUnique_d)\n",
    "    bP = findSmoothProb(descriptionWordsTest[i]+titleWordsTest[i], Businesses, countAll_b, count, countUnique_b)\n",
    "    hP = findSmoothProb(descriptionWordsTest[i]+titleWordsTest[i], home, countAll_h, count, countUnique_h)\n",
    "    pP = findSmoothProb(descriptionWordsTest[i]+titleWordsTest[i], personal, countAll_p, count, countUnique_p)\n",
    "    lP = findSmoothProb(descriptionWordsTest[i]+titleWordsTest[i], hobby, countAll_l, count, countUnique_l)\n",
    "\n",
    "\n",
    "    maxP = max(vP, dP, bP, hP, pP, lP)\n",
    "    options = { \n",
    "        vP : VEHICLES,\n",
    "        dP : DE,\n",
    "        bP : BUISINESSES,\n",
    "        hP : HOME,\n",
    "        pP : PERSONAL,\n",
    "        lP : HOBBIES,\n",
    "    }\n",
    "    \n",
    "    category = options[maxP]\n",
    "    allDetected[category] += 1\n",
    "    classTotal[categoryTest[i]] += 1\n",
    "    if category == categoryTest[i]:\n",
    "        correctDetected[category] += 1\n",
    "\n",
    "totalClass = len(descriptionWordsTest)\n",
    "Accuracy = 0\n",
    "Accuracy = correctDetected[VEHICLES] + correctDetected[DE] + correctDetected[BUISINESSES]\n",
    "Accuracy += correctDetected[HOME] + correctDetected[PERSONAL] + correctDetected[HOBBIES]\n",
    "Accuracy /= totalClass\n",
    "print(\"Accuracy is \", Accuracy)\n",
    "\n",
    "for word in precision.keys():\n",
    "    precision[word] = correctDetected[word]/allDetected[word]\n",
    "\n",
    "print(\"precision: \",precision)\n",
    "\n",
    "for word in recall.keys():\n",
    "    recall[word] = correctDetected[word]/classTotal[word]\n",
    "\n",
    "print(\"recall: \",recall)\n",
    "\n",
    "for word in F1.keys():\n",
    "    F1[word] = 2* (precision[word]*recall[word])/ (precision[word] + recall[word])\n",
    "\n",
    "print(\"F1: \", F1)"
   ]
  },
  {
   "cell_type": "code",
   "execution_count": null,
   "metadata": {},
   "outputs": [],
   "source": []
  }
 ],
 "metadata": {
  "interpreter": {
   "hash": "e963b0579f23019f6374094e685c39c01acb4e6b70c97140bceb80b4c3704a91"
  },
  "kernelspec": {
   "display_name": "Python 3.8.6 64-bit",
   "language": "python",
   "name": "python3"
  },
  "language_info": {
   "codemirror_mode": {
    "name": "ipython",
    "version": 3
   },
   "file_extension": ".py",
   "mimetype": "text/x-python",
   "name": "python",
   "nbconvert_exporter": "python",
   "pygments_lexer": "ipython3",
   "version": "3.9.0"
  },
  "orig_nbformat": 4
 },
 "nbformat": 4,
 "nbformat_minor": 2
}
