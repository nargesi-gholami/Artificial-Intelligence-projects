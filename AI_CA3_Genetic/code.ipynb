{
 "cells": [
  {
   "cell_type": "code",
   "execution_count": 1,
   "metadata": {},
   "outputs": [],
   "source": [
    "import random\n",
    "maxPopulation = 50\n",
    "from copy import deepcopy"
   ]
  },
  {
   "cell_type": "markdown",
   "metadata": {},
   "source": [
    "1- define Gene and Chromosome.\n",
    "\n",
    "Gene is suduku table and Chromosome is a line of the table"
   ]
  },
  {
   "cell_type": "code",
   "execution_count": 2,
   "metadata": {},
   "outputs": [],
   "source": [
    "#In the name of God\n",
    "ch = [None, None, None, None, None, None, None, None, None, None] #Chromosome\n",
    "g = [] #gene\n",
    "for i in range(9):\n",
    "    g.append(ch)\n",
    "\n",
    "ans = [ [4,3,5,2,6,9,7,8,1],\n",
    "        [6,8,2,5,7,1,4,9,3],\n",
    "        [1,9,7,8,3,4,5,6,2],\n",
    "        [8,2,6,1,9,5,3,4,7],\n",
    "        [3,7,4,6,8,2,9,1,5],\n",
    "        [9,5,1,7,4,3,6,2,8],    \n",
    "        [5,1,9,3,2,6,8,7,4],    \n",
    "        [2,4,8,9,5,7,1,3,6],\n",
    "        [7,6,3,4,1,8,2,5,9], ]"
   ]
  },
  {
   "cell_type": "markdown",
   "metadata": {},
   "source": [
    "2- Produce population\n",
    "\n",
    "Number of sample = 50\n",
    "\n"
   ]
  },
  {
   "cell_type": "code",
   "execution_count": 3,
   "metadata": {},
   "outputs": [],
   "source": [
    "def createPopulation(table):\n",
    "    population = []\n",
    "    \n",
    "    for k in range(maxPopulation):\n",
    "        t = deepcopy(table)\n",
    "        for i in range(9):\n",
    "            for j in range(9):\n",
    "                while(not t[i][j]):\n",
    "                    ch = random.randint(1, 9)\n",
    "                    if ch not in t[i]:\n",
    "                        t[i][j] = ch                   \n",
    "        population.append(t) \n",
    "\n",
    "    return population"
   ]
  },
  {
   "cell_type": "markdown",
   "metadata": {},
   "source": [
    "Calcualte function fitness"
   ]
  },
  {
   "cell_type": "code",
   "execution_count": 4,
   "metadata": {},
   "outputs": [],
   "source": [
    "def calFF(g):\n",
    "    score = 0\n",
    "    for i in range(9): # for column\n",
    "        seen = []\n",
    "        for j in range(9):\n",
    "            if g[j][i] in seen:\n",
    "                score += 1\n",
    "            else:\n",
    "                seen.append(g[j][i])\n",
    "        \n",
    "\n",
    "    for x in range(3):\n",
    "        for y in range(3):\n",
    "            seen = []\n",
    "            for i in range(3): # for every 9 cell\n",
    "                for j in range(3):                    \n",
    "                    if g[x*3 + i][y*3 + j] in seen:\n",
    "                        score += 1\n",
    "                    else:\n",
    "                        seen.append( g[x*3 + i][y*3 + j])\n",
    "    return score"
   ]
  },
  {
   "cell_type": "markdown",
   "metadata": {},
   "source": [
    "Checking table is goal "
   ]
  },
  {
   "cell_type": "code",
   "execution_count": 5,
   "metadata": {},
   "outputs": [],
   "source": [
    "def checkGoal(g):\n",
    "    if(calFF(g) == 0):\n",
    "        return True\n",
    "    return False\n",
    "\n",
    "def calProb():\n",
    "    return random.uniform(0, 1)"
   ]
  },
  {
   "cell_type": "markdown",
   "metadata": {},
   "source": [
    "Cross over and mutation"
   ]
  },
  {
   "cell_type": "code",
   "execution_count": 6,
   "metadata": {},
   "outputs": [],
   "source": [
    "def crossOver(g1, g2, crossPoint):\n",
    "    \n",
    "    temp = []\n",
    "    for i in range(crossPoint):\n",
    "        temp.append(g1[i])\n",
    "\n",
    "    for i in range(crossPoint):\n",
    "        g1[i] = g2[i]\n",
    "\n",
    "    for i in range(crossPoint):\n",
    "        g2[i] = temp[i]\n",
    "\n",
    "    return g1, g2\n",
    "\n",
    "def mutation(g, table):\n",
    "    minScore = calFF(g)\n",
    "    finalG = g\n",
    "    row = random.randint(0,8)\n",
    "    for i in range(9): # for column\n",
    "        for j in range(i+1, 9):\n",
    "            if not table[row][i] and not table[row][j]:\n",
    "                g[row][j], g[row][i] = g[row][i], g[row][j]\n",
    "                newScore = calFF(g)\n",
    "                if(minScore > newScore):\n",
    "                    minScore = newScore\n",
    "                    finalG = g\n",
    "                else:\n",
    "                    g[row][i], g[row][j] = g[row][j], g[row][i]\n",
    "    return finalG"
   ]
  },
  {
   "cell_type": "markdown",
   "metadata": {},
   "source": [
    "selection"
   ]
  },
  {
   "cell_type": "code",
   "execution_count": 7,
   "metadata": {},
   "outputs": [],
   "source": [
    "def selection(population):\n",
    "    population.sort(key = calFF)\n",
    "    return population"
   ]
  },
  {
   "cell_type": "code",
   "execution_count": 17,
   "metadata": {},
   "outputs": [
    {
     "name": "stdout",
     "output_type": "stream",
     "text": [
      "Answer\n"
     ]
    },
    {
     "data": {
      "text/plain": [
       "[[8, 2, 6, 9, 3, 5, 1, 4, 7],\n",
       " [4, 1, 7, 6, 8, 2, 9, 5, 3],\n",
       " [9, 5, 3, 1, 7, 4, 8, 2, 6],\n",
       " [7, 9, 4, 8, 2, 1, 6, 3, 5],\n",
       " [5, 6, 8, 3, 4, 7, 2, 9, 1],\n",
       " [1, 3, 2, 5, 6, 9, 4, 7, 8],\n",
       " [3, 4, 1, 2, 5, 8, 7, 6, 9],\n",
       " [2, 8, 5, 7, 9, 6, 3, 1, 4],\n",
       " [6, 7, 9, 4, 1, 3, 5, 8, 2]]"
      ]
     },
     "execution_count": 17,
     "metadata": {},
     "output_type": "execute_result"
    }
   ],
   "source": [
    "#random.randint(0, 9)\n",
    "'''table = [ \n",
    "    [0, 3, 0, 2, 0, 0, 0, 0, 0],\n",
    "    [0, 0, 0, 5, 0, 0, 0, 0, 3],\n",
    "    [1, 0, 7, 0, 0, 0, 0, 0, 0],\n",
    "    [0, 2, 0, 0, 0, 0, 0, 4, 0],\n",
    "    [0, 7, 0, 0, 0, 0, 0, 0, 5],\n",
    "    [0, 5, 0, 0, 0, 3, 6, 0, 0],\n",
    "    [0, 1, 0, 0, 0, 0, 0, 7, 4],\n",
    "    [2, 0, 8, 0, 0, 0, 1, 0, 0],\n",
    "    [0, 0, 0, 0, 0, 0, 2, 0, 9]]'''\n",
    "\n",
    "table = [\n",
    "    [8, 0, 6, 0, 0, 0, 1, 0, 7],\n",
    "    [0, 0, 0, 6, 0, 2, 0, 0, 0],\n",
    "    [0, 5, 3, 0, 0, 4, 8, 0, 6],\n",
    "    [7, 0, 4, 8, 0, 0, 6, 3, 0],\n",
    "    [0, 0, 0, 0, 0, 0, 0, 9, 0],\n",
    "    [1, 0, 0, 5, 0, 0, 4, 0, 0],\n",
    "    [0, 0, 1, 2, 0, 0, 7, 0, 9],\n",
    "    [2, 0, 0, 0, 9, 6, 0, 0, 0],\n",
    "    [0, 7, 0, 0, 1, 0, 0, 8, 0],\n",
    "]\n",
    "\n",
    "\"\"\"table = [\n",
    "    [0, 6, 0, 2, 0, 0, 0, 7, 1],\n",
    "    [4, 0, 5, 0, 0, 0, 0, 0, 2],\n",
    "    [3, 0, 0, 0, 8, 0, 6, 9, 0],\n",
    "    [2, 0, 0, 9, 0, 8, 7, 0, 0],\n",
    "    [0, 9, 3, 0, 0, 0, 8, 0, 0],\n",
    "    [0, 0, 6, 0, 0, 1, 0, 0, 9],\n",
    "    [0, 8, 7, 0, 3, 0, 0, 0, 6],\n",
    "    [6, 0, 0, 0, 0, 0, 5, 0, 7],\n",
    "    [0, 0, 0, 0, 0, 9, 0, 2, 0],\n",
    "]\"\"\"\n",
    "\n",
    "\n",
    "population = createPopulation(table)\n",
    "answer = []\n",
    "end = False\n",
    "recreat = 0\n",
    "fitness = []\n",
    "while(True):\n",
    "    population = selection(population)\n",
    "    for i in range(int(len(population)/10)):\n",
    "        if calProb() > 0.2:\n",
    "            population[2*i], population[2*i+1] = crossOver(population[2*i], population[2*i+1], random.randint(0, 8))\n",
    "        if calProb() > 0.2:\n",
    "            population[2*i] = mutation(population[2*i], table)\n",
    "        if calProb() > 0.2:\n",
    "            population[2*i+1] = mutation(population[2*i+1], table)\n",
    "\n",
    "        ans1 = calFF(population[2*i])\n",
    "        ans2 = calFF(population[2*i+1])\n",
    "        \n",
    "        if not ans1:\n",
    "            answer = population[2*i]\n",
    "            end = True\n",
    "\n",
    "        elif not ans2:\n",
    "            answer = population[2*i+1] \n",
    "            end = True\n",
    "\n",
    "        if fitness and (ans1 == fitness[-1] or ans2 == fitness[-1]):\n",
    "            recreat += 1\n",
    "        else:\n",
    "            fitness.append(ans1)\n",
    "            fitness.append(ans2)\n",
    "\n",
    "        if recreat > 100:\n",
    "            recreat = 0\n",
    "            population = createPopulation(table) \n",
    "\n",
    "    if(end):\n",
    "        break\n",
    "\n",
    "print(\"Answer\")\n",
    "answer"
   ]
  },
  {
   "cell_type": "code",
   "execution_count": null,
   "metadata": {},
   "outputs": [],
   "source": []
  },
  {
   "cell_type": "code",
   "execution_count": null,
   "metadata": {},
   "outputs": [],
   "source": []
  }
 ],
 "metadata": {
  "interpreter": {
   "hash": "53a3ed243a2ffacdae3dd08d1ee56898c9a5905bfefe3dc91bff15757b3fc05f"
  },
  "kernelspec": {
   "display_name": "Python 3.10.0 64-bit",
   "name": "python3"
  },
  "language_info": {
   "codemirror_mode": {
    "name": "ipython",
    "version": 3
   },
   "file_extension": ".py",
   "mimetype": "text/x-python",
   "name": "python",
   "nbconvert_exporter": "python",
   "pygments_lexer": "ipython3",
   "version": "3.8.0"
  },
  "orig_nbformat": 4
 },
 "nbformat": 4,
 "nbformat_minor": 2
}
