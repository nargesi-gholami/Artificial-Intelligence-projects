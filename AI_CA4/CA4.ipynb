{
 "cells": [
  {
   "cell_type": "markdown",
   "metadata": {},
   "source": [
    "# CA4 Machine learning"
   ]
  },
  {
   "cell_type": "markdown",
   "metadata": {},
   "source": [
    "#### import libraries"
   ]
  },
  {
   "cell_type": "code",
   "execution_count": 123,
   "metadata": {},
   "outputs": [],
   "source": [
    "import pandas as pd\n",
    "pd.options.mode.chained_assignment = None \n",
    "from sklearn.preprocessing import StandardScaler\n",
    "from sklearn.preprocessing import MinMaxScaler\n",
    "from sklearn.preprocessing import OrdinalEncoder\n",
    "import numpy as np\n",
    "from sklearn import preprocessing\n",
    "from copy import deepcopy\n",
    "from sklearn.feature_extraction.text import (CountVectorizer, \n",
    "                                             TfidfVectorizer,\n",
    "                                             TfidfTransformer)\n",
    "from sklearn.metrics import plot_confusion_matrix\n",
    "from sklearn.model_selection import train_test_split\n",
    "from math import log2\n",
    "import matplotlib.pyplot as plt\n",
    "from sklearn.tree import DecisionTreeClassifier\n",
    "from sklearn.model_selection import train_test_split \n",
    "from sklearn.metrics import accuracy_score\n",
    "from sklearn.feature_selection import mutual_info_classif\n",
    "from sklearn.model_selection import GridSearchCV\n",
    "from sklearn.svm import SVC  \n",
    "from sklearn.metrics import plot_confusion_matrix\n",
    "from sklearn.ensemble import RandomForestClassifier\n",
    "from sklearn.metrics import confusion_matrix, ConfusionMatrixDisplay\n",
    "from sklearn.metrics import confusion_matrix"
   ]
  },
  {
   "cell_type": "markdown",
   "metadata": {},
   "source": [
    "#### read from dataset.csv and check the structure of dataframe (info)"
   ]
  },
  {
   "cell_type": "code",
   "execution_count": 124,
   "metadata": {},
   "outputs": [
    {
     "name": "stdout",
     "output_type": "stream",
     "text": [
      "Film data info(): \n",
      "<class 'pandas.core.frame.DataFrame'>\n",
      "RangeIndex: 11059 entries, 0 to 11058\n",
      "Data columns (total 7 columns):\n",
      " #   Column        Non-Null Count  Dtype \n",
      "---  ------        --------------  ----- \n",
      " 0   type          11059 non-null  object\n",
      " 1   title         11059 non-null  object\n",
      " 2   cast          9694 non-null   object\n",
      " 3   country       8364 non-null   object\n",
      " 4   release_year  11059 non-null  int64 \n",
      " 5   listed_in     11059 non-null  object\n",
      " 6   description   11059 non-null  object\n",
      "dtypes: int64(1), object(6)\n",
      "memory usage: 604.9+ KB\n",
      "None\n"
     ]
    }
   ],
   "source": [
    "data = pd.read_csv('dataset.csv')\n",
    "filmData = pd.DataFrame(data)\n",
    "print(\"Film data info(): \")\n",
    "print(filmData.info())"
   ]
  },
  {
   "cell_type": "markdown",
   "metadata": {},
   "source": [
    "#### Applying Describe Method"
   ]
  },
  {
   "cell_type": "code",
   "execution_count": 125,
   "metadata": {},
   "outputs": [
    {
     "name": "stdout",
     "output_type": "stream",
     "text": [
      "Film data describe(): \n",
      "type\n",
      "count     11059\n",
      "unique        2\n",
      "top       Movie\n",
      "freq       6131\n",
      "Name: type, dtype: object\n",
      "****\n",
      "title\n",
      "count              11059\n",
      "unique             10957\n",
      "top       Sister, Sister\n",
      "freq                   2\n",
      "Name: title, dtype: object\n",
      "****\n",
      "cast\n",
      "count                   9694\n",
      "unique                  9307\n",
      "top       David Attenborough\n",
      "freq                      20\n",
      "Name: cast, dtype: object\n",
      "****\n",
      "country\n",
      "count              8364\n",
      "unique              760\n",
      "top       United States\n",
      "freq               3105\n",
      "Name: country, dtype: object\n",
      "****\n",
      "release_year\n",
      "count    11059.000000\n",
      "mean      2014.209603\n",
      "std          8.959517\n",
      "min       1925.000000\n",
      "25%       2013.000000\n",
      "50%       2017.000000\n",
      "75%       2019.000000\n",
      "max       2021.000000\n",
      "Name: release_year, dtype: float64\n",
      "****\n",
      "listed_in\n",
      "count                            11059\n",
      "unique                             888\n",
      "top       Dramas, International Movies\n",
      "freq                               362\n",
      "Name: listed_in, dtype: object\n",
      "****\n",
      "description\n",
      "count     11059\n",
      "unique    10978\n",
      "top           1\n",
      "freq          9\n",
      "Name: description, dtype: object\n",
      "****\n"
     ]
    }
   ],
   "source": [
    "print(\"Film data describe(): \")\n",
    "for col in filmData:\n",
    "    print(col)\n",
    "    print(filmData[col].describe())\n",
    "    print(\"****\")"
   ]
  },
  {
   "cell_type": "markdown",
   "metadata": {},
   "source": [
    "#### Computing Percentage of Missing Values"
   ]
  },
  {
   "cell_type": "code",
   "execution_count": 126,
   "metadata": {},
   "outputs": [
    {
     "name": "stdout",
     "output_type": "stream",
     "text": [
      "type             0.000000\n",
      "title            0.000000\n",
      "cast            12.342888\n",
      "country         24.369292\n",
      "release_year     0.000000\n",
      "listed_in        0.000000\n",
      "description      0.000000\n",
      "dtype: float64\n"
     ]
    }
   ],
   "source": [
    "percent_missing = filmData.isnull().sum() * 100 / len(filmData)\n",
    "print(percent_missing)"
   ]
  },
  {
   "cell_type": "markdown",
   "metadata": {},
   "source": [
    "#### filling Nan data with mean and mode"
   ]
  },
  {
   "cell_type": "code",
   "execution_count": 127,
   "metadata": {},
   "outputs": [],
   "source": [
    "newFilmData = deepcopy(filmData)\n",
    "numeric_columns = filmData.select_dtypes(include=['number']).columns\n",
    "newFilmData[numeric_columns] = filmData[numeric_columns].fillna(filmData.mean(numeric_only=True))\n",
    "\n",
    "Categorical_columns = filmData.select_dtypes(exclude=['number']).columns\n",
    "newFilmData[Categorical_columns] = filmData[Categorical_columns].transform(lambda a: a.fillna(a.mode()[0]))"
   ]
  },
  {
   "cell_type": "markdown",
   "metadata": {},
   "source": [
    "##### normalization data"
   ]
  },
  {
   "cell_type": "code",
   "execution_count": 128,
   "metadata": {},
   "outputs": [
    {
     "data": {
      "text/plain": [
       "array([[0.98958333],\n",
       "       [1.        ],\n",
       "       [1.        ],\n",
       "       ...,\n",
       "       [0.92708333],\n",
       "       [0.94791667],\n",
       "       [0.86458333]])"
      ]
     },
     "execution_count": 128,
     "metadata": {},
     "output_type": "execute_result"
    }
   ],
   "source": [
    "norm = MinMaxScaler().fit(filmData[['release_year']])\n",
    "x_train_norm = norm.transform(filmData[['release_year']])\n",
    "x_train_norm"
   ]
  },
  {
   "cell_type": "markdown",
   "metadata": {},
   "source": [
    "##### Standardization data"
   ]
  },
  {
   "cell_type": "code",
   "execution_count": 129,
   "metadata": {},
   "outputs": [
    {
     "name": "stdout",
     "output_type": "stream",
     "text": [
      "[[ 0.64631375]\n",
      " [ 0.75793196]\n",
      " [ 0.75793196]\n",
      " ...\n",
      " [-0.02339552]\n",
      " [ 0.19984091]\n",
      " [-0.69310478]]\n",
      "-1.2014783577822473e-14\n",
      "1.0\n"
     ]
    }
   ],
   "source": [
    "standard = StandardScaler().fit(filmData[['release_year']])\n",
    "x_train_standard = standard.transform(filmData[['release_year']])\n",
    "print(x_train_standard)\n",
    "print(np.mean(x_train_standard))\n",
    "print(np.std(x_train_standard))"
   ]
  },
  {
   "cell_type": "markdown",
   "metadata": {},
   "source": [
    "#### encode categorical data with label encoding"
   ]
  },
  {
   "cell_type": "code",
   "execution_count": 130,
   "metadata": {},
   "outputs": [],
   "source": [
    "newFilmData['type'] = newFilmData[['type']].apply(preprocessing.LabelEncoder().fit_transform)\n",
    "newFilmData['country'] = newFilmData[['country']].apply(preprocessing.LabelEncoder().fit_transform)"
   ]
  },
  {
   "cell_type": "markdown",
   "metadata": {},
   "source": [
    "#### divide listed_in in 3 part"
   ]
  },
  {
   "cell_type": "code",
   "execution_count": 131,
   "metadata": {},
   "outputs": [
    {
     "name": "stdout",
     "output_type": "stream",
     "text": [
      "       type                  title  \\\n",
      "0         0   Dick Johnson Is Dead   \n",
      "1         1          Blood & Water   \n",
      "2         1              Ganglands   \n",
      "3         1  Jailbirds New Orleans   \n",
      "4         1           Kota Factory   \n",
      "...     ...                    ...   \n",
      "11054     1       X-Men: Evolution   \n",
      "11055     1              Smart Guy   \n",
      "11056     1   Disney Kirby Buckets   \n",
      "11057     1         Disney Mech-X4   \n",
      "11058     1     Imagination Movers   \n",
      "\n",
      "                                                    cast  country  \\\n",
      "0                                     David Attenborough      608   \n",
      "1      Ama Qamata, Khosi Ngema, Gail Mabalane, Thaban...      430   \n",
      "2      Sami Bouajila, Tracy Gotoas, Samuel Jouy, Nabi...      608   \n",
      "3                                     David Attenborough      608   \n",
      "4      Mayur More, Jitendra Kumar, Ranjan Raj, Alam K...      254   \n",
      "...                                                  ...      ...   \n",
      "11054  Noel Fisher, Vincent Gale, Christopher Judge, ...      608   \n",
      "11055  Tahj Mowry, John Jones, Jason Weaver, Essence ...      608   \n",
      "11056  Jacob Bertrand, Mekai Curtis, Cade Sutton, Oli...      608   \n",
      "11057  Nathaniel Potvin, Raymond Cham, Kamran Lucas, ...       59   \n",
      "11058  Rich Collins, Dave Poche, Scott Durbin, Scott ...      608   \n",
      "\n",
      "       release_year               listed_in  \\\n",
      "0              2020           Documentaries   \n",
      "1              2021  International TV Shows   \n",
      "2              2021          Crime TV Shows   \n",
      "3              2021              Docuseries   \n",
      "4              2021  International TV Shows   \n",
      "...             ...                     ...   \n",
      "11054          2000        Action-Adventure   \n",
      "11055          1996                  Comedy   \n",
      "11056          2014        Action-Adventure   \n",
      "11057          2016        Action-Adventure   \n",
      "11058          2008                    Kids   \n",
      "\n",
      "                                             description  \\\n",
      "0      As her father nears the end of his life, filmm...   \n",
      "1      After crossing paths at a party, a Cape Town t...   \n",
      "2      To protect his family from a powerful drug lor...   \n",
      "3      Feuds, flirtations and toilet talk go down amo...   \n",
      "4      In a city of coaching centers known to train I...   \n",
      "...                                                  ...   \n",
      "11054  X-Men: Evolution features the team as teenager...   \n",
      "11055  A genius tries to fit in as a high school soph...   \n",
      "11056   Welcome to Kirby's world! It's rude and sketchy.   \n",
      "11057  Ryan discovers his ability to control a giant ...   \n",
      "11058  Rock out with the Imagination Movers, Disney J...   \n",
      "\n",
      "                    listed_in2              listed_in3  \n",
      "0                         None                    None  \n",
      "1                    TV Dramas            TV Mysteries  \n",
      "2       International TV Shows   TV Action & Adventure  \n",
      "3                   Reality TV                    None  \n",
      "4            Romantic TV Shows             TV Comedies  \n",
      "...                        ...                     ...  \n",
      "11054                Animation                    Kids  \n",
      "11055            Coming of Age                    Kids  \n",
      "11056                   Comedy           Coming of Age  \n",
      "11057                   Comedy         Science Fiction  \n",
      "11058                    Music                    None  \n",
      "\n",
      "[11059 rows x 9 columns]\n"
     ]
    }
   ],
   "source": [
    "listed_in_data = newFilmData['listed_in'].str.split(',')\n",
    "newFilmData['listed_in2'] = None\n",
    "newFilmData['listed_in3'] = None\n",
    "for i in range(len(newFilmData)):\n",
    "    newFilmData['listed_in'][i] = listed_in_data[i][0]\n",
    "    if len(listed_in_data[i]) > 1:\n",
    "        newFilmData['listed_in2'][i] = listed_in_data[i][1]\n",
    "    if len(listed_in_data[i]) > 2 :\n",
    "        newFilmData['listed_in3'][i] = listed_in_data[i][2]\n",
    "print(newFilmData)    "
   ]
  },
  {
   "cell_type": "markdown",
   "metadata": {},
   "source": [
    "#### encode listed_in"
   ]
  },
  {
   "cell_type": "code",
   "execution_count": 132,
   "metadata": {},
   "outputs": [],
   "source": [
    "newFilmData['listed_in'] = newFilmData[['listed_in']].apply(preprocessing.LabelEncoder().fit_transform)\n",
    "newFilmData['listed_in2'] = newFilmData[['listed_in2']].apply(preprocessing.LabelEncoder().fit_transform)\n",
    "newFilmData['listed_in3'] = newFilmData[['listed_in3']].apply(preprocessing.LabelEncoder().fit_transform)"
   ]
  },
  {
   "cell_type": "markdown",
   "metadata": {},
   "source": [
    "#### Extract features from description and title"
   ]
  },
  {
   "cell_type": "code",
   "execution_count": 133,
   "metadata": {},
   "outputs": [
    {
     "name": "stdout",
     "output_type": "stream",
     "text": [
      "['chicago', 'sugar', 'christmas', 'anger', 'freedom', 'hitler', 'rock', 'trucks', 'physics', 'season', 'sheep', 'short', 'rainbow', 'restaurant', 'monkey', 'joe', 'del', 'knock', 'global', 'bear', 'las', 'machine', 'names', 'cats', 'test', 'before', 'amazon', 'gear', 'act', 'series', 'fishing', 'impact', 'chicken', 'junior', 'agent', 'zoo', 'adventures', 'dinosaurs', 'luna', 'marvel', 'animal', 'hawaii', 'toys', 'fish', 'mickey', 'rocket', 'moments', 'cartoon', 'spider']\n",
      "49\n"
     ]
    }
   ],
   "source": [
    "vectorizer = CountVectorizer(analyzer='word', \n",
    "                              token_pattern=r'\\b[a-zA-Z]{3,}\\b',  \n",
    "                              ngram_range=(1, 2), min_df = 10)  \n",
    "x = newFilmData['description'] + newFilmData['title']\n",
    "count_vectorized  = vectorizer.fit_transform(x)\n",
    "tfidf_transformer = TfidfTransformer(smooth_idf=True, use_idf=True)\n",
    "vectorized = tfidf_transformer.fit_transform(count_vectorized)\n",
    "pd.DataFrame(vectorized.toarray(), \n",
    "             index=['sentence '+str(i) \n",
    "                    for i in range(1, 1+len(x))],\n",
    "             columns=vectorizer.get_feature_names_out())\n",
    "\n",
    "featureNames = vectorizer.get_feature_names_out()\n",
    "feature = []\n",
    "for col in vectorized.toarray():\n",
    "       for i in range((len(col))):\n",
    "              if col[i] > 0.7:\n",
    "                     if featureNames[i] not in feature:\n",
    "                            feature.append(featureNames[i])\n",
    "print(feature)\n",
    "print(len(feature))"
   ]
  },
  {
   "cell_type": "markdown",
   "metadata": {},
   "source": [
    "delete description and title and add new features"
   ]
  },
  {
   "cell_type": "code",
   "execution_count": 134,
   "metadata": {},
   "outputs": [
    {
     "data": {
      "text/html": [
       "<div>\n",
       "<style scoped>\n",
       "    .dataframe tbody tr th:only-of-type {\n",
       "        vertical-align: middle;\n",
       "    }\n",
       "\n",
       "    .dataframe tbody tr th {\n",
       "        vertical-align: top;\n",
       "    }\n",
       "\n",
       "    .dataframe thead th {\n",
       "        text-align: right;\n",
       "    }\n",
       "</style>\n",
       "<table border=\"1\" class=\"dataframe\">\n",
       "  <thead>\n",
       "    <tr style=\"text-align: right;\">\n",
       "      <th></th>\n",
       "      <th>type</th>\n",
       "      <th>cast</th>\n",
       "      <th>country</th>\n",
       "      <th>release_year</th>\n",
       "      <th>listed_in</th>\n",
       "      <th>listed_in2</th>\n",
       "      <th>listed_in3</th>\n",
       "      <th>act</th>\n",
       "      <th>adventures</th>\n",
       "      <th>agent</th>\n",
       "      <th>...</th>\n",
       "      <th>season</th>\n",
       "      <th>series</th>\n",
       "      <th>sheep</th>\n",
       "      <th>short</th>\n",
       "      <th>spider</th>\n",
       "      <th>sugar</th>\n",
       "      <th>test</th>\n",
       "      <th>toys</th>\n",
       "      <th>trucks</th>\n",
       "      <th>zoo</th>\n",
       "    </tr>\n",
       "  </thead>\n",
       "  <tbody>\n",
       "    <tr>\n",
       "      <th>0</th>\n",
       "      <td>0</td>\n",
       "      <td>David Attenborough</td>\n",
       "      <td>608</td>\n",
       "      <td>2020</td>\n",
       "      <td>22</td>\n",
       "      <td>75</td>\n",
       "      <td>77</td>\n",
       "      <td>0.0</td>\n",
       "      <td>0.0</td>\n",
       "      <td>0.0</td>\n",
       "      <td>...</td>\n",
       "      <td>0.0</td>\n",
       "      <td>0.000000</td>\n",
       "      <td>0.0</td>\n",
       "      <td>0.0</td>\n",
       "      <td>0.0</td>\n",
       "      <td>0.0</td>\n",
       "      <td>0.0</td>\n",
       "      <td>0.0</td>\n",
       "      <td>0.0</td>\n",
       "      <td>0.0</td>\n",
       "    </tr>\n",
       "    <tr>\n",
       "      <th>1</th>\n",
       "      <td>1</td>\n",
       "      <td>Ama Qamata, Khosi Ngema, Gail Mabalane, Thaban...</td>\n",
       "      <td>430</td>\n",
       "      <td>2021</td>\n",
       "      <td>37</td>\n",
       "      <td>63</td>\n",
       "      <td>65</td>\n",
       "      <td>0.0</td>\n",
       "      <td>0.0</td>\n",
       "      <td>0.0</td>\n",
       "      <td>...</td>\n",
       "      <td>0.0</td>\n",
       "      <td>0.000000</td>\n",
       "      <td>0.0</td>\n",
       "      <td>0.0</td>\n",
       "      <td>0.0</td>\n",
       "      <td>0.0</td>\n",
       "      <td>0.0</td>\n",
       "      <td>0.0</td>\n",
       "      <td>0.0</td>\n",
       "      <td>0.0</td>\n",
       "    </tr>\n",
       "    <tr>\n",
       "      <th>2</th>\n",
       "      <td>1</td>\n",
       "      <td>Sami Bouajila, Tracy Gotoas, Samuel Jouy, Nabi...</td>\n",
       "      <td>608</td>\n",
       "      <td>2021</td>\n",
       "      <td>20</td>\n",
       "      <td>33</td>\n",
       "      <td>61</td>\n",
       "      <td>0.0</td>\n",
       "      <td>0.0</td>\n",
       "      <td>0.0</td>\n",
       "      <td>...</td>\n",
       "      <td>0.0</td>\n",
       "      <td>0.000000</td>\n",
       "      <td>0.0</td>\n",
       "      <td>0.0</td>\n",
       "      <td>0.0</td>\n",
       "      <td>0.0</td>\n",
       "      <td>0.0</td>\n",
       "      <td>0.0</td>\n",
       "      <td>0.0</td>\n",
       "      <td>0.0</td>\n",
       "    </tr>\n",
       "    <tr>\n",
       "      <th>3</th>\n",
       "      <td>1</td>\n",
       "      <td>David Attenborough</td>\n",
       "      <td>608</td>\n",
       "      <td>2021</td>\n",
       "      <td>24</td>\n",
       "      <td>46</td>\n",
       "      <td>77</td>\n",
       "      <td>0.0</td>\n",
       "      <td>0.0</td>\n",
       "      <td>0.0</td>\n",
       "      <td>...</td>\n",
       "      <td>0.0</td>\n",
       "      <td>0.102445</td>\n",
       "      <td>0.0</td>\n",
       "      <td>0.0</td>\n",
       "      <td>0.0</td>\n",
       "      <td>0.0</td>\n",
       "      <td>0.0</td>\n",
       "      <td>0.0</td>\n",
       "      <td>0.0</td>\n",
       "      <td>0.0</td>\n",
       "    </tr>\n",
       "    <tr>\n",
       "      <th>4</th>\n",
       "      <td>1</td>\n",
       "      <td>Mayur More, Jitendra Kumar, Ranjan Raj, Alam K...</td>\n",
       "      <td>254</td>\n",
       "      <td>2021</td>\n",
       "      <td>37</td>\n",
       "      <td>49</td>\n",
       "      <td>62</td>\n",
       "      <td>0.0</td>\n",
       "      <td>0.0</td>\n",
       "      <td>0.0</td>\n",
       "      <td>...</td>\n",
       "      <td>0.0</td>\n",
       "      <td>0.000000</td>\n",
       "      <td>0.0</td>\n",
       "      <td>0.0</td>\n",
       "      <td>0.0</td>\n",
       "      <td>0.0</td>\n",
       "      <td>0.0</td>\n",
       "      <td>0.0</td>\n",
       "      <td>0.0</td>\n",
       "      <td>0.0</td>\n",
       "    </tr>\n",
       "    <tr>\n",
       "      <th>...</th>\n",
       "      <td>...</td>\n",
       "      <td>...</td>\n",
       "      <td>...</td>\n",
       "      <td>...</td>\n",
       "      <td>...</td>\n",
       "      <td>...</td>\n",
       "      <td>...</td>\n",
       "      <td>...</td>\n",
       "      <td>...</td>\n",
       "      <td>...</td>\n",
       "      <td>...</td>\n",
       "      <td>...</td>\n",
       "      <td>...</td>\n",
       "      <td>...</td>\n",
       "      <td>...</td>\n",
       "      <td>...</td>\n",
       "      <td>...</td>\n",
       "      <td>...</td>\n",
       "      <td>...</td>\n",
       "      <td>...</td>\n",
       "      <td>...</td>\n",
       "    </tr>\n",
       "    <tr>\n",
       "      <th>11054</th>\n",
       "      <td>1</td>\n",
       "      <td>Noel Fisher, Vincent Gale, Christopher Judge, ...</td>\n",
       "      <td>608</td>\n",
       "      <td>2000</td>\n",
       "      <td>2</td>\n",
       "      <td>2</td>\n",
       "      <td>28</td>\n",
       "      <td>0.0</td>\n",
       "      <td>0.0</td>\n",
       "      <td>0.0</td>\n",
       "      <td>...</td>\n",
       "      <td>0.0</td>\n",
       "      <td>0.000000</td>\n",
       "      <td>0.0</td>\n",
       "      <td>0.0</td>\n",
       "      <td>0.0</td>\n",
       "      <td>0.0</td>\n",
       "      <td>0.0</td>\n",
       "      <td>0.0</td>\n",
       "      <td>0.0</td>\n",
       "      <td>0.0</td>\n",
       "    </tr>\n",
       "    <tr>\n",
       "      <th>11055</th>\n",
       "      <td>1</td>\n",
       "      <td>Tahj Mowry, John Jones, Jason Weaver, Essence ...</td>\n",
       "      <td>608</td>\n",
       "      <td>1996</td>\n",
       "      <td>18</td>\n",
       "      <td>13</td>\n",
       "      <td>28</td>\n",
       "      <td>0.0</td>\n",
       "      <td>0.0</td>\n",
       "      <td>0.0</td>\n",
       "      <td>...</td>\n",
       "      <td>0.0</td>\n",
       "      <td>0.000000</td>\n",
       "      <td>0.0</td>\n",
       "      <td>0.0</td>\n",
       "      <td>0.0</td>\n",
       "      <td>0.0</td>\n",
       "      <td>0.0</td>\n",
       "      <td>0.0</td>\n",
       "      <td>0.0</td>\n",
       "      <td>0.0</td>\n",
       "    </tr>\n",
       "    <tr>\n",
       "      <th>11056</th>\n",
       "      <td>1</td>\n",
       "      <td>Jacob Bertrand, Mekai Curtis, Cade Sutton, Oli...</td>\n",
       "      <td>608</td>\n",
       "      <td>2014</td>\n",
       "      <td>2</td>\n",
       "      <td>12</td>\n",
       "      <td>8</td>\n",
       "      <td>0.0</td>\n",
       "      <td>0.0</td>\n",
       "      <td>0.0</td>\n",
       "      <td>...</td>\n",
       "      <td>0.0</td>\n",
       "      <td>0.000000</td>\n",
       "      <td>0.0</td>\n",
       "      <td>0.0</td>\n",
       "      <td>0.0</td>\n",
       "      <td>0.0</td>\n",
       "      <td>0.0</td>\n",
       "      <td>0.0</td>\n",
       "      <td>0.0</td>\n",
       "      <td>0.0</td>\n",
       "    </tr>\n",
       "    <tr>\n",
       "      <th>11057</th>\n",
       "      <td>1</td>\n",
       "      <td>Nathaniel Potvin, Raymond Cham, Kamran Lucas, ...</td>\n",
       "      <td>59</td>\n",
       "      <td>2016</td>\n",
       "      <td>2</td>\n",
       "      <td>12</td>\n",
       "      <td>50</td>\n",
       "      <td>0.0</td>\n",
       "      <td>0.0</td>\n",
       "      <td>0.0</td>\n",
       "      <td>...</td>\n",
       "      <td>0.0</td>\n",
       "      <td>0.000000</td>\n",
       "      <td>0.0</td>\n",
       "      <td>0.0</td>\n",
       "      <td>0.0</td>\n",
       "      <td>0.0</td>\n",
       "      <td>0.0</td>\n",
       "      <td>0.0</td>\n",
       "      <td>0.0</td>\n",
       "      <td>0.0</td>\n",
       "    </tr>\n",
       "    <tr>\n",
       "      <th>11058</th>\n",
       "      <td>1</td>\n",
       "      <td>Rich Collins, Dave Poche, Scott Durbin, Scott ...</td>\n",
       "      <td>608</td>\n",
       "      <td>2008</td>\n",
       "      <td>38</td>\n",
       "      <td>40</td>\n",
       "      <td>77</td>\n",
       "      <td>0.0</td>\n",
       "      <td>0.0</td>\n",
       "      <td>0.0</td>\n",
       "      <td>...</td>\n",
       "      <td>0.0</td>\n",
       "      <td>0.000000</td>\n",
       "      <td>0.0</td>\n",
       "      <td>0.0</td>\n",
       "      <td>0.0</td>\n",
       "      <td>0.0</td>\n",
       "      <td>0.0</td>\n",
       "      <td>0.0</td>\n",
       "      <td>0.0</td>\n",
       "      <td>0.0</td>\n",
       "    </tr>\n",
       "  </tbody>\n",
       "</table>\n",
       "<p>11059 rows × 56 columns</p>\n",
       "</div>"
      ],
      "text/plain": [
       "       type                                               cast  country  \\\n",
       "0         0                                 David Attenborough      608   \n",
       "1         1  Ama Qamata, Khosi Ngema, Gail Mabalane, Thaban...      430   \n",
       "2         1  Sami Bouajila, Tracy Gotoas, Samuel Jouy, Nabi...      608   \n",
       "3         1                                 David Attenborough      608   \n",
       "4         1  Mayur More, Jitendra Kumar, Ranjan Raj, Alam K...      254   \n",
       "...     ...                                                ...      ...   \n",
       "11054     1  Noel Fisher, Vincent Gale, Christopher Judge, ...      608   \n",
       "11055     1  Tahj Mowry, John Jones, Jason Weaver, Essence ...      608   \n",
       "11056     1  Jacob Bertrand, Mekai Curtis, Cade Sutton, Oli...      608   \n",
       "11057     1  Nathaniel Potvin, Raymond Cham, Kamran Lucas, ...       59   \n",
       "11058     1  Rich Collins, Dave Poche, Scott Durbin, Scott ...      608   \n",
       "\n",
       "       release_year  listed_in  listed_in2  listed_in3  act  adventures  \\\n",
       "0              2020         22          75          77  0.0         0.0   \n",
       "1              2021         37          63          65  0.0         0.0   \n",
       "2              2021         20          33          61  0.0         0.0   \n",
       "3              2021         24          46          77  0.0         0.0   \n",
       "4              2021         37          49          62  0.0         0.0   \n",
       "...             ...        ...         ...         ...  ...         ...   \n",
       "11054          2000          2           2          28  0.0         0.0   \n",
       "11055          1996         18          13          28  0.0         0.0   \n",
       "11056          2014          2          12           8  0.0         0.0   \n",
       "11057          2016          2          12          50  0.0         0.0   \n",
       "11058          2008         38          40          77  0.0         0.0   \n",
       "\n",
       "       agent  ...  season    series  sheep  short  spider  sugar  test  toys  \\\n",
       "0        0.0  ...     0.0  0.000000    0.0    0.0     0.0    0.0   0.0   0.0   \n",
       "1        0.0  ...     0.0  0.000000    0.0    0.0     0.0    0.0   0.0   0.0   \n",
       "2        0.0  ...     0.0  0.000000    0.0    0.0     0.0    0.0   0.0   0.0   \n",
       "3        0.0  ...     0.0  0.102445    0.0    0.0     0.0    0.0   0.0   0.0   \n",
       "4        0.0  ...     0.0  0.000000    0.0    0.0     0.0    0.0   0.0   0.0   \n",
       "...      ...  ...     ...       ...    ...    ...     ...    ...   ...   ...   \n",
       "11054    0.0  ...     0.0  0.000000    0.0    0.0     0.0    0.0   0.0   0.0   \n",
       "11055    0.0  ...     0.0  0.000000    0.0    0.0     0.0    0.0   0.0   0.0   \n",
       "11056    0.0  ...     0.0  0.000000    0.0    0.0     0.0    0.0   0.0   0.0   \n",
       "11057    0.0  ...     0.0  0.000000    0.0    0.0     0.0    0.0   0.0   0.0   \n",
       "11058    0.0  ...     0.0  0.000000    0.0    0.0     0.0    0.0   0.0   0.0   \n",
       "\n",
       "       trucks  zoo  \n",
       "0         0.0  0.0  \n",
       "1         0.0  0.0  \n",
       "2         0.0  0.0  \n",
       "3         0.0  0.0  \n",
       "4         0.0  0.0  \n",
       "...       ...  ...  \n",
       "11054     0.0  0.0  \n",
       "11055     0.0  0.0  \n",
       "11056     0.0  0.0  \n",
       "11057     0.0  0.0  \n",
       "11058     0.0  0.0  \n",
       "\n",
       "[11059 rows x 56 columns]"
      ]
     },
     "execution_count": 134,
     "metadata": {},
     "output_type": "execute_result"
    }
   ],
   "source": [
    "featureIndex = [] \n",
    "for i in range(len(featureNames)):\n",
    "    if featureNames[i] in feature:\n",
    "        featureIndex.append(i)\n",
    "\n",
    "for i in range(len(featureIndex)):\n",
    "    newFilmData[featureNames[featureIndex[i]]] = vectorized.toarray()[:, featureIndex[i]]\n",
    "\n",
    "del newFilmData[\"description\"]\n",
    "del newFilmData[\"title\"]\n",
    "newFilmData"
   ]
  },
  {
   "cell_type": "markdown",
   "metadata": {},
   "source": [
    "#### Extract features from actors"
   ]
  },
  {
   "cell_type": "markdown",
   "metadata": {},
   "source": [
    "then delete actor and add 10 new actor name"
   ]
  },
  {
   "cell_type": "code",
   "execution_count": 135,
   "metadata": {},
   "outputs": [
    {
     "data": {
      "text/plain": [
       "array(['anupam kher', 'david attenborough', 'juan pablo', 'julie tejwani',\n",
       "       'naseeruddin shah', 'rukh khan', 'rupa bhimani', 'shah rukh',\n",
       "       'takahiro sakurai', 'yuki kaji'], dtype=object)"
      ]
     },
     "execution_count": 135,
     "metadata": {},
     "output_type": "execute_result"
    }
   ],
   "source": [
    "vectorizer = CountVectorizer(analyzer='word', \n",
    "                              token_pattern=r'\\b[a-zA-Z]{3,}\\b',  \n",
    "                              ngram_range=(2, 2), min_df = 10 , max_features = 10 )\n",
    "vectorized = vectorizer.fit_transform(newFilmData['cast'])\n",
    "actors = pd.DataFrame(vectorized.toarray(), \n",
    "             index=['sentence '+str(i) \n",
    "                    for i in range(1, 1+len(newFilmData['cast']))],\n",
    "             columns=vectorizer.get_feature_names_out ())\n",
    "\n",
    "actNames = vectorizer.get_feature_names_out()\n",
    "newFilmData = newFilmData.join(actors.reset_index(drop = True))\n",
    "del newFilmData[\"cast\"]\n",
    "actNames"
   ]
  },
  {
   "cell_type": "code",
   "execution_count": 136,
   "metadata": {},
   "outputs": [
    {
     "data": {
      "text/html": [
       "<div>\n",
       "<style scoped>\n",
       "    .dataframe tbody tr th:only-of-type {\n",
       "        vertical-align: middle;\n",
       "    }\n",
       "\n",
       "    .dataframe tbody tr th {\n",
       "        vertical-align: top;\n",
       "    }\n",
       "\n",
       "    .dataframe thead th {\n",
       "        text-align: right;\n",
       "    }\n",
       "</style>\n",
       "<table border=\"1\" class=\"dataframe\">\n",
       "  <thead>\n",
       "    <tr style=\"text-align: right;\">\n",
       "      <th></th>\n",
       "      <th>type</th>\n",
       "      <th>country</th>\n",
       "      <th>release_year</th>\n",
       "      <th>listed_in</th>\n",
       "      <th>listed_in2</th>\n",
       "      <th>listed_in3</th>\n",
       "      <th>act</th>\n",
       "      <th>adventures</th>\n",
       "      <th>agent</th>\n",
       "      <th>amazon</th>\n",
       "      <th>...</th>\n",
       "      <th>anupam kher</th>\n",
       "      <th>david attenborough</th>\n",
       "      <th>juan pablo</th>\n",
       "      <th>julie tejwani</th>\n",
       "      <th>naseeruddin shah</th>\n",
       "      <th>rukh khan</th>\n",
       "      <th>rupa bhimani</th>\n",
       "      <th>shah rukh</th>\n",
       "      <th>takahiro sakurai</th>\n",
       "      <th>yuki kaji</th>\n",
       "    </tr>\n",
       "  </thead>\n",
       "  <tbody>\n",
       "    <tr>\n",
       "      <th>0</th>\n",
       "      <td>0</td>\n",
       "      <td>608</td>\n",
       "      <td>2020</td>\n",
       "      <td>22</td>\n",
       "      <td>75</td>\n",
       "      <td>77</td>\n",
       "      <td>0.0</td>\n",
       "      <td>0.0</td>\n",
       "      <td>0.0</td>\n",
       "      <td>0.0</td>\n",
       "      <td>...</td>\n",
       "      <td>0</td>\n",
       "      <td>1</td>\n",
       "      <td>0</td>\n",
       "      <td>0</td>\n",
       "      <td>0</td>\n",
       "      <td>0</td>\n",
       "      <td>0</td>\n",
       "      <td>0</td>\n",
       "      <td>0</td>\n",
       "      <td>0</td>\n",
       "    </tr>\n",
       "    <tr>\n",
       "      <th>1</th>\n",
       "      <td>1</td>\n",
       "      <td>430</td>\n",
       "      <td>2021</td>\n",
       "      <td>37</td>\n",
       "      <td>63</td>\n",
       "      <td>65</td>\n",
       "      <td>0.0</td>\n",
       "      <td>0.0</td>\n",
       "      <td>0.0</td>\n",
       "      <td>0.0</td>\n",
       "      <td>...</td>\n",
       "      <td>0</td>\n",
       "      <td>0</td>\n",
       "      <td>0</td>\n",
       "      <td>0</td>\n",
       "      <td>0</td>\n",
       "      <td>0</td>\n",
       "      <td>0</td>\n",
       "      <td>0</td>\n",
       "      <td>0</td>\n",
       "      <td>0</td>\n",
       "    </tr>\n",
       "    <tr>\n",
       "      <th>2</th>\n",
       "      <td>1</td>\n",
       "      <td>608</td>\n",
       "      <td>2021</td>\n",
       "      <td>20</td>\n",
       "      <td>33</td>\n",
       "      <td>61</td>\n",
       "      <td>0.0</td>\n",
       "      <td>0.0</td>\n",
       "      <td>0.0</td>\n",
       "      <td>0.0</td>\n",
       "      <td>...</td>\n",
       "      <td>0</td>\n",
       "      <td>0</td>\n",
       "      <td>0</td>\n",
       "      <td>0</td>\n",
       "      <td>0</td>\n",
       "      <td>0</td>\n",
       "      <td>0</td>\n",
       "      <td>0</td>\n",
       "      <td>0</td>\n",
       "      <td>0</td>\n",
       "    </tr>\n",
       "    <tr>\n",
       "      <th>3</th>\n",
       "      <td>1</td>\n",
       "      <td>608</td>\n",
       "      <td>2021</td>\n",
       "      <td>24</td>\n",
       "      <td>46</td>\n",
       "      <td>77</td>\n",
       "      <td>0.0</td>\n",
       "      <td>0.0</td>\n",
       "      <td>0.0</td>\n",
       "      <td>0.0</td>\n",
       "      <td>...</td>\n",
       "      <td>0</td>\n",
       "      <td>1</td>\n",
       "      <td>0</td>\n",
       "      <td>0</td>\n",
       "      <td>0</td>\n",
       "      <td>0</td>\n",
       "      <td>0</td>\n",
       "      <td>0</td>\n",
       "      <td>0</td>\n",
       "      <td>0</td>\n",
       "    </tr>\n",
       "    <tr>\n",
       "      <th>4</th>\n",
       "      <td>1</td>\n",
       "      <td>254</td>\n",
       "      <td>2021</td>\n",
       "      <td>37</td>\n",
       "      <td>49</td>\n",
       "      <td>62</td>\n",
       "      <td>0.0</td>\n",
       "      <td>0.0</td>\n",
       "      <td>0.0</td>\n",
       "      <td>0.0</td>\n",
       "      <td>...</td>\n",
       "      <td>0</td>\n",
       "      <td>0</td>\n",
       "      <td>0</td>\n",
       "      <td>0</td>\n",
       "      <td>0</td>\n",
       "      <td>0</td>\n",
       "      <td>0</td>\n",
       "      <td>0</td>\n",
       "      <td>0</td>\n",
       "      <td>0</td>\n",
       "    </tr>\n",
       "    <tr>\n",
       "      <th>...</th>\n",
       "      <td>...</td>\n",
       "      <td>...</td>\n",
       "      <td>...</td>\n",
       "      <td>...</td>\n",
       "      <td>...</td>\n",
       "      <td>...</td>\n",
       "      <td>...</td>\n",
       "      <td>...</td>\n",
       "      <td>...</td>\n",
       "      <td>...</td>\n",
       "      <td>...</td>\n",
       "      <td>...</td>\n",
       "      <td>...</td>\n",
       "      <td>...</td>\n",
       "      <td>...</td>\n",
       "      <td>...</td>\n",
       "      <td>...</td>\n",
       "      <td>...</td>\n",
       "      <td>...</td>\n",
       "      <td>...</td>\n",
       "      <td>...</td>\n",
       "    </tr>\n",
       "    <tr>\n",
       "      <th>11054</th>\n",
       "      <td>1</td>\n",
       "      <td>608</td>\n",
       "      <td>2000</td>\n",
       "      <td>2</td>\n",
       "      <td>2</td>\n",
       "      <td>28</td>\n",
       "      <td>0.0</td>\n",
       "      <td>0.0</td>\n",
       "      <td>0.0</td>\n",
       "      <td>0.0</td>\n",
       "      <td>...</td>\n",
       "      <td>0</td>\n",
       "      <td>0</td>\n",
       "      <td>0</td>\n",
       "      <td>0</td>\n",
       "      <td>0</td>\n",
       "      <td>0</td>\n",
       "      <td>0</td>\n",
       "      <td>0</td>\n",
       "      <td>0</td>\n",
       "      <td>0</td>\n",
       "    </tr>\n",
       "    <tr>\n",
       "      <th>11055</th>\n",
       "      <td>1</td>\n",
       "      <td>608</td>\n",
       "      <td>1996</td>\n",
       "      <td>18</td>\n",
       "      <td>13</td>\n",
       "      <td>28</td>\n",
       "      <td>0.0</td>\n",
       "      <td>0.0</td>\n",
       "      <td>0.0</td>\n",
       "      <td>0.0</td>\n",
       "      <td>...</td>\n",
       "      <td>0</td>\n",
       "      <td>0</td>\n",
       "      <td>0</td>\n",
       "      <td>0</td>\n",
       "      <td>0</td>\n",
       "      <td>0</td>\n",
       "      <td>0</td>\n",
       "      <td>0</td>\n",
       "      <td>0</td>\n",
       "      <td>0</td>\n",
       "    </tr>\n",
       "    <tr>\n",
       "      <th>11056</th>\n",
       "      <td>1</td>\n",
       "      <td>608</td>\n",
       "      <td>2014</td>\n",
       "      <td>2</td>\n",
       "      <td>12</td>\n",
       "      <td>8</td>\n",
       "      <td>0.0</td>\n",
       "      <td>0.0</td>\n",
       "      <td>0.0</td>\n",
       "      <td>0.0</td>\n",
       "      <td>...</td>\n",
       "      <td>0</td>\n",
       "      <td>0</td>\n",
       "      <td>0</td>\n",
       "      <td>0</td>\n",
       "      <td>0</td>\n",
       "      <td>0</td>\n",
       "      <td>0</td>\n",
       "      <td>0</td>\n",
       "      <td>0</td>\n",
       "      <td>0</td>\n",
       "    </tr>\n",
       "    <tr>\n",
       "      <th>11057</th>\n",
       "      <td>1</td>\n",
       "      <td>59</td>\n",
       "      <td>2016</td>\n",
       "      <td>2</td>\n",
       "      <td>12</td>\n",
       "      <td>50</td>\n",
       "      <td>0.0</td>\n",
       "      <td>0.0</td>\n",
       "      <td>0.0</td>\n",
       "      <td>0.0</td>\n",
       "      <td>...</td>\n",
       "      <td>0</td>\n",
       "      <td>0</td>\n",
       "      <td>0</td>\n",
       "      <td>0</td>\n",
       "      <td>0</td>\n",
       "      <td>0</td>\n",
       "      <td>0</td>\n",
       "      <td>0</td>\n",
       "      <td>0</td>\n",
       "      <td>0</td>\n",
       "    </tr>\n",
       "    <tr>\n",
       "      <th>11058</th>\n",
       "      <td>1</td>\n",
       "      <td>608</td>\n",
       "      <td>2008</td>\n",
       "      <td>38</td>\n",
       "      <td>40</td>\n",
       "      <td>77</td>\n",
       "      <td>0.0</td>\n",
       "      <td>0.0</td>\n",
       "      <td>0.0</td>\n",
       "      <td>0.0</td>\n",
       "      <td>...</td>\n",
       "      <td>0</td>\n",
       "      <td>0</td>\n",
       "      <td>0</td>\n",
       "      <td>0</td>\n",
       "      <td>0</td>\n",
       "      <td>0</td>\n",
       "      <td>0</td>\n",
       "      <td>0</td>\n",
       "      <td>0</td>\n",
       "      <td>0</td>\n",
       "    </tr>\n",
       "  </tbody>\n",
       "</table>\n",
       "<p>11059 rows × 65 columns</p>\n",
       "</div>"
      ],
      "text/plain": [
       "       type  country  release_year  listed_in  listed_in2  listed_in3  act  \\\n",
       "0         0      608          2020         22          75          77  0.0   \n",
       "1         1      430          2021         37          63          65  0.0   \n",
       "2         1      608          2021         20          33          61  0.0   \n",
       "3         1      608          2021         24          46          77  0.0   \n",
       "4         1      254          2021         37          49          62  0.0   \n",
       "...     ...      ...           ...        ...         ...         ...  ...   \n",
       "11054     1      608          2000          2           2          28  0.0   \n",
       "11055     1      608          1996         18          13          28  0.0   \n",
       "11056     1      608          2014          2          12           8  0.0   \n",
       "11057     1       59          2016          2          12          50  0.0   \n",
       "11058     1      608          2008         38          40          77  0.0   \n",
       "\n",
       "       adventures  agent  amazon  ...  anupam kher  david attenborough  \\\n",
       "0             0.0    0.0     0.0  ...            0                   1   \n",
       "1             0.0    0.0     0.0  ...            0                   0   \n",
       "2             0.0    0.0     0.0  ...            0                   0   \n",
       "3             0.0    0.0     0.0  ...            0                   1   \n",
       "4             0.0    0.0     0.0  ...            0                   0   \n",
       "...           ...    ...     ...  ...          ...                 ...   \n",
       "11054         0.0    0.0     0.0  ...            0                   0   \n",
       "11055         0.0    0.0     0.0  ...            0                   0   \n",
       "11056         0.0    0.0     0.0  ...            0                   0   \n",
       "11057         0.0    0.0     0.0  ...            0                   0   \n",
       "11058         0.0    0.0     0.0  ...            0                   0   \n",
       "\n",
       "       juan pablo  julie tejwani  naseeruddin shah  rukh khan  rupa bhimani  \\\n",
       "0               0              0                 0          0             0   \n",
       "1               0              0                 0          0             0   \n",
       "2               0              0                 0          0             0   \n",
       "3               0              0                 0          0             0   \n",
       "4               0              0                 0          0             0   \n",
       "...           ...            ...               ...        ...           ...   \n",
       "11054           0              0                 0          0             0   \n",
       "11055           0              0                 0          0             0   \n",
       "11056           0              0                 0          0             0   \n",
       "11057           0              0                 0          0             0   \n",
       "11058           0              0                 0          0             0   \n",
       "\n",
       "       shah rukh  takahiro sakurai  yuki kaji  \n",
       "0              0                 0          0  \n",
       "1              0                 0          0  \n",
       "2              0                 0          0  \n",
       "3              0                 0          0  \n",
       "4              0                 0          0  \n",
       "...          ...               ...        ...  \n",
       "11054          0                 0          0  \n",
       "11055          0                 0          0  \n",
       "11056          0                 0          0  \n",
       "11057          0                 0          0  \n",
       "11058          0                 0          0  \n",
       "\n",
       "[11059 rows x 65 columns]"
      ]
     },
     "execution_count": 136,
     "metadata": {},
     "output_type": "execute_result"
    }
   ],
   "source": [
    "newFilmData"
   ]
  },
  {
   "cell_type": "markdown",
   "metadata": {},
   "source": [
    "#### calculate Information gain and plot"
   ]
  },
  {
   "cell_type": "code",
   "execution_count": 137,
   "metadata": {},
   "outputs": [
    {
     "data": {
      "text/plain": [
       "Text(0.5, 1.0, 'Information gain')"
      ]
     },
     "execution_count": 137,
     "metadata": {},
     "output_type": "execute_result"
    },
    {
     "data": {
      "image/png": "[encoded data removed]",
      "text/plain": [
       "<Figure size 1440x576 with 1 Axes>"
      ]
     },
     "metadata": {
      "needs_background": "light"
     },
     "output_type": "display_data"
    }
   ],
   "source": [
    "target = newFilmData['type']\n",
    "newFilmData.drop(columns = 'type', axis = 1, inplace=True)\n",
    "gainInfo = mutual_info_classif(newFilmData, target)\n",
    "gainInfo = pd.Series(mutual_info_classif(newFilmData, target))\n",
    "gainInfo.index = newFilmData.columns\n",
    "gainInfo.sort_values(ascending=False).plot.bar(figsize=(20, 8))\n",
    "plt.ylabel(\"feature\")\n",
    "plt.xlabel(\"IG\")\n",
    "plt.title(\"Information gain\")"
   ]
  },
  {
   "cell_type": "markdown",
   "metadata": {},
   "source": [
    "### Dicision tree"
   ]
  },
  {
   "cell_type": "markdown",
   "metadata": {},
   "source": [
    "Split data to test and train then run decision tree algorithm. then calculate accuracy_score"
   ]
  },
  {
   "cell_type": "code",
   "execution_count": 138,
   "metadata": {},
   "outputs": [],
   "source": [
    "def decisiionTree(newFilmData, t, target):\n",
    "    y = target\n",
    "    X_train, X_test, y_train, y_test = train_test_split(newFilmData, y, test_size= t, random_state=1)\n",
    "    clf = DecisionTreeClassifier().fit(X_train, y_train)\n",
    "    y_pred = clf.predict(X_test)\n",
    "    y_trainPred = clf.predict(X_train)\n",
    "    print(\"Accuracy of test is \" , accuracy_score(y_test, y_pred), \" for test size\", t)\n",
    "    print(\"Accuracy of train is \" , accuracy_score(y_train, y_trainPred))"
   ]
  },
  {
   "cell_type": "markdown",
   "metadata": {},
   "source": [
    "examine various test size"
   ]
  },
  {
   "cell_type": "code",
   "execution_count": 139,
   "metadata": {},
   "outputs": [
    {
     "name": "stdout",
     "output_type": "stream",
     "text": [
      "Accuracy of test is  0.990990990990991  for test size 0.01\n",
      "Accuracy of train is  1.0\n",
      "Accuracy of test is  0.9865667786101783  for test size 0.7\n",
      "Accuracy of train is  1.0\n",
      "Accuracy of test is  0.9942736588306209  for test size 0.3\n",
      "Accuracy of train is  1.0\n"
     ]
    }
   ],
   "source": [
    "decisiionTree(newFilmData, 0.01, target)\n",
    "decisiionTree(newFilmData, 0.7, target)\n",
    "decisiionTree(newFilmData, 0.3, target)"
   ]
  },
  {
   "cell_type": "markdown",
   "metadata": {},
   "source": [
    "Function for depth changes"
   ]
  },
  {
   "cell_type": "code",
   "execution_count": 140,
   "metadata": {},
   "outputs": [],
   "source": [
    "def decisiionTreeDepth(newFilmData, depth, target):\n",
    "    y = target\n",
    "    X_train, X_test, y_train, y_test = train_test_split(newFilmData, y, test_size= 0.3, random_state=1)\n",
    "    clf = DecisionTreeClassifier(max_depth = depth).fit(X_train, y_train)\n",
    "    y_pred = clf.predict(X_test)\n",
    "    y_trainPred = clf.predict(X_train)\n",
    "    trainList = accuracy_score(y_test, y_pred)\n",
    "    testList = accuracy_score(y_train, y_trainPred)\n",
    "    print(\"Accuracy of test is \" , accuracy_score(y_test, y_pred), \"for drpth \", depth)\n",
    "    print(\"Accuracy of train is \" , accuracy_score(y_train, y_trainPred))\n",
    "    return trainList, testList"
   ]
  },
  {
   "cell_type": "markdown",
   "metadata": {},
   "source": [
    "examine various depth"
   ]
  },
  {
   "cell_type": "code",
   "execution_count": 141,
   "metadata": {},
   "outputs": [
    {
     "name": "stdout",
     "output_type": "stream",
     "text": [
      "Accuracy of test is  0.7091621458710067 for drpth  1\n",
      "Accuracy of train is  0.7023640356543083\n",
      "Accuracy of test is  0.7329716696805304 for drpth  2\n",
      "Accuracy of train is  0.7493863841880894\n",
      "Accuracy of test is  0.8004822182037372 for drpth  3\n",
      "Accuracy of train is  0.8146234336649012\n",
      "Accuracy of test is  0.8402652200120555 for drpth  4\n",
      "Accuracy of train is  0.8549283038367136\n",
      "Accuracy of test is  0.8875828812537673 for drpth  5\n",
      "Accuracy of train is  0.8927787107608836\n",
      "Accuracy of test is  0.9222423146473779 for drpth  6\n",
      "Accuracy of train is  0.9197778064849502\n",
      "Accuracy of test is  0.9520795660036167 for drpth  7\n",
      "Accuracy of train is  0.945872626275675\n",
      "Accuracy of test is  0.9674502712477396 for drpth  8\n",
      "Accuracy of train is  0.9682211600568402\n",
      "Accuracy of test is  0.9879445449065702 for drpth  9\n",
      "Accuracy of train is  0.9882444128665547\n",
      "Accuracy of test is  0.9942736588306209 for drpth  10\n",
      "Accuracy of train is  0.9985789949618912\n",
      "Accuracy of test is  0.9933694996986137 for drpth  11\n",
      "Accuracy of train is  0.9992249063428498\n",
      "Accuracy of test is  0.9948764315852924 for drpth  12\n",
      "Accuracy of train is  0.9996124531714249\n",
      "Accuracy of test is  0.9933694996986137 for drpth  13\n",
      "Accuracy of train is  1.0\n",
      "Accuracy of test is  0.9936708860759493 for drpth  14\n",
      "Accuracy of train is  1.0\n"
     ]
    }
   ],
   "source": [
    "testList = []\n",
    "trainList = []\n",
    "for depth in range(1, 15):\n",
    "    testAcc, trainAcc = decisiionTreeDepth(newFilmData, depth, target)\n",
    "    testList.append(testAcc)\n",
    "    trainList.append(trainAcc)"
   ]
  },
  {
   "cell_type": "markdown",
   "metadata": {},
   "source": [
    "plot accuracy score based on test data and train data"
   ]
  },
  {
   "cell_type": "code",
   "execution_count": 142,
   "metadata": {},
   "outputs": [
    {
     "data": {
      "image/png": "[encoded data removed]",
      "text/plain": [
       "<Figure size 432x288 with 1 Axes>"
      ]
     },
     "metadata": {
      "needs_background": "light"
     },
     "output_type": "display_data"
    }
   ],
   "source": [
    "plt.plot(testList, label= 'test acc')\n",
    "plt.plot(trainList, label= 'train acc')\n",
    "plt.xlabel('depth')\n",
    "plt.ylabel('accuracy')\n",
    "plt.title('accuracy score based on test and train data')\n",
    "plt.legend()\n",
    "plt.show()"
   ]
  },
  {
   "cell_type": "markdown",
   "metadata": {},
   "source": [
    "#### check hyper parameters"
   ]
  },
  {
   "cell_type": "code",
   "execution_count": 143,
   "metadata": {},
   "outputs": [
    {
     "name": "stdout",
     "output_type": "stream",
     "text": [
      "0.9940581155102824\n",
      "{'max_depth': 50, 'min_samples_split': 2}\n"
     ]
    }
   ],
   "source": [
    "def findBestHyper(target):\n",
    "    X_train, X_test, y_train, y_test = train_test_split(newFilmData, target, test_size= 0.3, random_state=1)\n",
    "    clf = GridSearchCV(DecisionTreeClassifier(), \n",
    "                       {'min_samples_split': np.arange(2, 3, 4),\n",
    "                       'max_depth': [5, 10, 20, 30, 40, 50]},\n",
    "                       cv = 4, return_train_score = False, scoring = 'accuracy')\n",
    "    clf.fit(X_train, y_train)\n",
    "    pd.DataFrame(clf.cv_results_).head(10)\n",
    "    accuracy = clf.best_score_\n",
    "    print(accuracy)\n",
    "    print(clf.best_params_)\n",
    "\n",
    "findBestHyper(target)"
   ]
  },
  {
   "cell_type": "markdown",
   "metadata": {},
   "source": [
    "#### confusion matrix"
   ]
  },
  {
   "cell_type": "code",
   "execution_count": 144,
   "metadata": {},
   "outputs": [],
   "source": [
    "def pltConfusionMatrix(y_test, y_pred , str):\n",
    "    matrix = confusion_matrix(y_test, y_pred)\n",
    "    clf = ConfusionMatrixDisplay(matrix, display_labels=['type 0', 'type 1'])\n",
    "    clf.plot()\n",
    "    clf.ax_.set(title='Confusion Matrix ' + str, \n",
    "                xlabel='Predicted Value', \n",
    "                ylabel='Actual Value')\n",
    "    plt.show()\n",
    "\n",
    "def decisiionTreeMatrix(newFilmData, depth, tSize, target):\n",
    "    y = target\n",
    "    X_train, X_test, y_train, y_test = train_test_split(newFilmData, y, test_size= tSize, random_state=1)\n",
    "    clf = DecisionTreeClassifier(max_depth = depth).fit(X_train, y_train)\n",
    "    y_pred = clf.predict(X_test)\n",
    "    y_trainPred = clf.predict(X_train)\n",
    "    pltConfusionMatrix(y_test, y_pred, 'test')\n",
    "    pltConfusionMatrix(y_train, y_trainPred, 'train')\n",
    "    "
   ]
  },
  {
   "cell_type": "code",
   "execution_count": 145,
   "metadata": {},
   "outputs": [
    {
     "data": {
      "image/png": "[encoded data removed]",
      "text/plain": [
       "<Figure size 432x288 with 2 Axes>"
      ]
     },
     "metadata": {
      "needs_background": "light"
     },
     "output_type": "display_data"
    },
    {
     "data": {
      "image/png": "[encoded data removed]",
      "text/plain": [
       "<Figure size 432x288 with 2 Axes>"
      ]
     },
     "metadata": {
      "needs_background": "light"
     },
     "output_type": "display_data"
    },
    {
     "data": {
      "image/png": "[encoded data removed]",
      "text/plain": [
       "<Figure size 432x288 with 2 Axes>"
      ]
     },
     "metadata": {
      "needs_background": "light"
     },
     "output_type": "display_data"
    },
    {
     "data": {
      "image/png": "[encoded data removed]",
      "text/plain": [
       "<Figure size 432x288 with 2 Axes>"
      ]
     },
     "metadata": {
      "needs_background": "light"
     },
     "output_type": "display_data"
    },
    {
     "data": {
      "image/png": "[encoded data removed]",
      "text/plain": [
       "<Figure size 432x288 with 2 Axes>"
      ]
     },
     "metadata": {
      "needs_background": "light"
     },
     "output_type": "display_data"
    },
    {
     "data": {
      "image/png": "[encoded data removed]",
      "text/plain": [
       "<Figure size 432x288 with 2 Axes>"
      ]
     },
     "metadata": {
      "needs_background": "light"
     },
     "output_type": "display_data"
    },
    {
     "data": {
      "image/png": "[encoded data removed]",
      "text/plain": [
       "<Figure size 432x288 with 2 Axes>"
      ]
     },
     "metadata": {
      "needs_background": "light"
     },
     "output_type": "display_data"
    },
    {
     "data": {
      "image/png": "[encoded data removed]",
      "text/plain": [
       "<Figure size 432x288 with 2 Axes>"
      ]
     },
     "metadata": {
      "needs_background": "light"
     },
     "output_type": "display_data"
    },
    {
     "data": {
      "image/png": "[encoded data removed]",
      "text/plain": [
       "<Figure size 432x288 with 2 Axes>"
      ]
     },
     "metadata": {
      "needs_background": "light"
     },
     "output_type": "display_data"
    },
    {
     "data": {
      "image/png": "[encoded data removed]",
      "text/plain": [
       "<Figure size 432x288 with 2 Axes>"
      ]
     },
     "metadata": {
      "needs_background": "light"
     },
     "output_type": "display_data"
    }
   ],
   "source": [
    "#various depth\n",
    "decisiionTreeMatrix(newFilmData, 2, 0.3, target)\n",
    "decisiionTreeMatrix(newFilmData, 5, 0.3, target)\n",
    "decisiionTreeMatrix(newFilmData, 15, 0.3, target)\n",
    "#various test size\n",
    "decisiionTreeMatrix(newFilmData, 5, 0.8, target)\n",
    "decisiionTreeMatrix(newFilmData, 5, 0.01, target)"
   ]
  },
  {
   "cell_type": "markdown",
   "metadata": {},
   "source": [
    "### Random forest"
   ]
  },
  {
   "cell_type": "code",
   "execution_count": 146,
   "metadata": {},
   "outputs": [],
   "source": [
    "def RandomForest(newFilmData, n, m, target):\n",
    "    X_train, X_test, y_train, y_test = train_test_split(newFilmData, target, test_size=0.3, random_state=42)\n",
    "    clf = RandomForestClassifier(n_estimators = n, min_samples_leaf = m).fit(X_train, y_train)\n",
    "    y_pred = clf.predict(X_test)\n",
    "    y_trainPred = clf.predict(X_train)\n",
    "    trainList = accuracy_score(y_test, y_pred)\n",
    "    testList = accuracy_score(y_train, y_trainPred)\n",
    "    print(\"Accuracy of test is \" , trainList)\n",
    "    print(\"Accuracy of train is \" , testList)\n",
    "    return trainList, testList"
   ]
  },
  {
   "cell_type": "markdown",
   "metadata": {},
   "source": [
    "examine various n_estimators"
   ]
  },
  {
   "cell_type": "code",
   "execution_count": 147,
   "metadata": {},
   "outputs": [
    {
     "name": "stdout",
     "output_type": "stream",
     "text": [
      "Accuracy of test is  0.9490657022302592\n",
      "Accuracy of train is  0.9525901046376437\n",
      "Accuracy of test is  0.9493670886075949\n",
      "Accuracy of train is  0.9531068337424106\n",
      "Accuracy of test is  0.9493670886075949\n",
      "Accuracy of train is  0.9533651982947939\n",
      "Accuracy of test is  0.9490657022302592\n",
      "Accuracy of train is  0.9528484691900271\n"
     ]
    },
    {
     "data": {
      "image/png": "[encoded data removed]",
      "text/plain": [
       "<Figure size 432x288 with 1 Axes>"
      ]
     },
     "metadata": {
      "needs_background": "light"
     },
     "output_type": "display_data"
    }
   ],
   "source": [
    "testListForest = []\n",
    "trainListForest = []\n",
    "for depth in range(1, 5):\n",
    "    testAcc, trainAcc = RandomForest(newFilmData, 50*i, 3, target)\n",
    "    testListForest.append(testAcc)\n",
    "    trainListForest.append(trainAcc)\n",
    "\n",
    "plt.plot(testListForest, label='test acc')\n",
    "plt.plot(trainListForest, label='train acc')\n",
    "plt.xlabel('n_estimators')\n",
    "plt.ylabel('accuracy')\n",
    "plt.title('accuracy score based on test and train data, random forest')\n",
    "plt.legend()\n",
    "plt.show()"
   ]
  },
  {
   "cell_type": "markdown",
   "metadata": {},
   "source": [
    "examine various min_samples_leaf"
   ]
  },
  {
   "cell_type": "code",
   "execution_count": 148,
   "metadata": {},
   "outputs": [
    {
     "name": "stdout",
     "output_type": "stream",
     "text": [
      "Accuracy of test is  0.8303194695599759\n",
      "Accuracy of train is  0.8299961245317142\n",
      "Accuracy of test is  0.8270042194092827\n",
      "Accuracy of train is  0.8297377599793309\n",
      "Accuracy of test is  0.8146473779385172\n",
      "Accuracy of train is  0.8119106058648753\n",
      "Accuracy of test is  0.8170584689572031\n",
      "Accuracy of train is  0.8141067045601343\n"
     ]
    },
    {
     "data": {
      "image/png": "[encoded data removed]",
      "text/plain": [
       "<Figure size 432x288 with 1 Axes>"
      ]
     },
     "metadata": {
      "needs_background": "light"
     },
     "output_type": "display_data"
    }
   ],
   "source": [
    "testListForest = []\n",
    "trainListForest = []\n",
    "for depth in range(1, 5):\n",
    "    testAcc, trainAcc = RandomForest(newFilmData, 50, i, target)\n",
    "    testListForest.append(testAcc)\n",
    "    trainListForest.append(trainAcc)\n",
    "\n",
    "plt.plot(testListForest, label='test acc')\n",
    "plt.plot(trainListForest, label='train acc')\n",
    "plt.xlabel('min_samples_leaf')\n",
    "plt.ylabel('accuracy')\n",
    "plt.title('accuracy score based on test and train data')\n",
    "plt.legend()\n",
    "plt.show()"
   ]
  }
 ],
 "metadata": {
  "interpreter": {
   "hash": "3df09b5f1a27852d964e6a9b03c7dfaebe6a0e6e550741b8c8b9faff3bbcd944"
  },
  "kernelspec": {
   "display_name": "Python 3.9.0 64-bit",
   "language": "python",
   "name": "python3"
  },
  "language_info": {
   "codemirror_mode": {
    "name": "ipython",
    "version": 3
   },
   "file_extension": ".py",
   "mimetype": "text/x-python",
   "name": "python",
   "nbconvert_exporter": "python",
   "pygments_lexer": "ipython3",
   "version": "3.9.0"
  },
  "orig_nbformat": 4
 },
 "nbformat": 4,
 "nbformat_minor": 2
}
